{
 "cells": [
  {
   "cell_type": "markdown",
   "metadata": {},
   "source": [
    "## Лабораторная работа №1 (курс \"Математические методы анализа текстов\")"
   ]
  },
  {
   "cell_type": "markdown",
   "metadata": {},
   "source": [
    "#### Тема: Определение частей речи и выделение именованных сущностей.\n",
    "\n",
    "\n",
    "**Выдана**:   25 февраля 2017\n",
    "\n",
    "**Дедлайн**:   <font color='red'>9:00 утра 13 марта 2017</font>\n",
    "\n",
    "**Среда выполнения**: Jupyter Notebook (Python 2.7)\n",
    "\n",
    "#### Правила:\n",
    "\n",
    "Результат выполнения задания - отчет в формате Jupyter Notebook с кодом и выводами. В ходе выполнения задания требуется реализовать все необходимые алгоритмы, провести эксперименты и ответить на поставленные вопросы. Дополнительные выводы приветствуются. Чем меньше кода и больше комментариев - тем лучше.\n",
    "\n",
    "Все ячейки должны быть \"выполненными\", при этом результат должен воспроизвдиться при проверке (на Python 2.7). Если какой-то код не был запущен или отрабатывает с ошибками, то пункт не засчитывается. Задание, сданное после дедлайна, _не принимается_. Совсем.\n",
    "\n",
    "\n",
    "Задание выполняется самостоятельно. Вы можете обсуждать идеи, объяснять друг другу материал, но не можете обмениваться частями своего кода. Если какие-то студенты будут уличены в списывании, все они автоматически получат за эту работу 0 баллов, а также предвзято негативное отношение семинаристов в будущем. Если вы нашли в Интернете какой-то код, который собираетесь заимствовать, обязательно укажите это в задании: вполне вероятно, что вы не единственный, кто найдёт и использует эту информацию."
   ]
  },
  {
   "cell_type": "markdown",
   "metadata": {},
   "source": [
    "#### Постановка задачи:\n",
    "\n",
    "В данной лабораторной работе вам предстоит:\n",
    "\n",
    "- обучить скрытую марковскую модель на размеченных данных и реализовать алгоритм Витерби для задачи POS-теггинга (определение частей речи слов в тексте)\n",
    "\n",
    "- научиться использовать ряд POS-теггеров из библиотеки NLTK и сравнить качество их работы\n",
    "\n",
    "- придумать различные признаки для CRF и использовать их в реализации CRF из пакета CRFsuite для решения задачи NER (выделение именованных сущностей в тексте)\n",
    "\n",
    "- использовать готовое решение для решения задачи NER и сравнить качество"
   ]
  },
  {
   "cell_type": "markdown",
   "metadata": {},
   "source": [
    "#### Комментарии и советы:\n",
    "\n",
    "1. Для выполнения потребуются модули Python numpy, nltk, pycrfsuite (для импорта последнего нужно установить пакет python-crfsuite).\n",
    "\n",
    "2. Все необходимые для выполнения задания данные либо приложены, либо могут быть скачаны с помощью nltk.download().\n",
    "\n",
    "3. Посмотреть параметры конструктора и других методов классов можно набрав и выполнив в ячейке с кодом '?full_method_name'.\n",
    "\n",
    "4. В коде Stanford NER tagger, возможно, присутствует ошибка. Для её устранения в файле /usr/local/lib/python2.7/site-packages/nltk/tag/api.py (или его аналоге в Windows) замените строку с номером 66 на следующую: tagged_sents = self.tag_sents([untag(sent) for sent in gold])"
   ]
  },
  {
   "cell_type": "markdown",
   "metadata": {},
   "source": [
    "### 1. Определение частей речи (POS)"
   ]
  },
  {
   "cell_type": "markdown",
   "metadata": {},
   "source": [
    "Мы будем решать задачу определения частей речи (POS-теггинга) с помощью скрытой марковской модели (HMM). Формула совместной плотности наблюдаемых и скрытых переменных задается как\n",
    "\n",
    "$$ p(X, T) = p(T) p(X|T) = p(t_1)  \\prod_{i=2}^N p(t_i|t_{i-1}) \\prod_{i=1}^N p(x_i|t_i)$$\n",
    "\n",
    "В данном случае:\n",
    "\n",
    "- наблюдаемые переменные $X$ - это слова корпуса;\n",
    "\n",
    "- скрытые переменные $T$ - это POS-теги."
   ]
  },
  {
   "cell_type": "markdown",
   "metadata": {},
   "source": [
    "#### 1.1. Обучение HMM на размеченных данных\n",
    "\n",
    "Требуется построить скрытую марковскую модель и настроить все ее параметры с помощью оценок максимального правдоподобия по размеченным данным (последовательности пар слово+тег):\n",
    "\n",
    "- Вероятности переходов между скрытыми состояниями $p(t_i | t_{i - 1})$ посчитайте на основе частот биграмм POS-тегов.\n",
    "\n",
    "- Вероятности эмиссий наблюдаемых состояний $p(x_i | t_i)$ посчитайте на основе частот \"POS-тег - слово\".\n",
    "\n",
    "- Обратите внимание на проблему разреженности счетчиков и сделаейте все вероятности сглаженными по Лапласу (add-one smoothing).\n",
    "\n",
    "- Распределение вероятностей начальных состояний $p(t_1)$ задайте равномерным.\n",
    "\n",
    "Обратите внимание, что так как мы используем размеченные данные, то у нас нет необходимости в оценивании апостериорных вероятностей на скрытые переменные с помощью алгоритма forward-backword и использовании EM-алгоритма."
   ]
  },
  {
   "cell_type": "code",
   "execution_count": 1,
   "metadata": {
    "collapsed": true
   },
   "outputs": [],
   "source": [
    "#сделать класс"
   ]
  },
  {
   "cell_type": "code",
   "execution_count": 1,
   "metadata": {
    "collapsed": false
   },
   "outputs": [],
   "source": [
    "# your code here\n",
    "import nltk"
   ]
  },
  {
   "cell_type": "code",
   "execution_count": 2,
   "metadata": {
    "collapsed": false
   },
   "outputs": [],
   "source": [
    "from collections import Counter\n",
    "from itertools import chain\n",
    "import numpy as np"
   ]
  },
  {
   "cell_type": "code",
   "execution_count": 3,
   "metadata": {
    "collapsed": true
   },
   "outputs": [],
   "source": [
    "class My_HMM:\n",
    "    '''Потрясающий класс, оценивающий вероятности.'''\n",
    "    def __init__(self, tagged_sents):\n",
    "        self.un_tags = set(t[1] for t in chain(*tagged_sents))\n",
    "        self.tag_dict = {t:i for (i,t) in enumerate(self.un_tags)}\n",
    "        \n",
    "        tags_pair = []\n",
    "        for sent in tagged_sents:\n",
    "            tags = [t[1] for t in sent]\n",
    "            tags_pair.extend(list(zip(tags[:-1], tags[1:])))\n",
    "        self.tags_transition = Counter(list(chain(tags_pair)))\n",
    "        self.transitions_freq = np.zeros((len(self.un_tags), len(self.un_tags)))\n",
    "        for t1, t2 in self.tags_transition:\n",
    "            self.transitions_freq[self.tag_dict[t1], self.tag_dict[t2]] = self.tags_transition[(t1, t2)]\n",
    "        \n",
    "        self.transitions_freq += 0.01\n",
    "        self.transitions_freq /= sum(self.tags_transition.values()) + 0.01*len(self.un_tags)\n",
    "            \n",
    "        self.emissions = Counter(list(chain(*tagged_sents)))\n",
    "        self.un_words = set(t[0] for t in chain(*tagged_sents))\n",
    "        self.word_dict = {t:i for (i,t) in enumerate(self.un_words)}\n",
    "        self.emissions_freq = np.zeros((len(self.un_words), len(self.un_tags)))\n",
    "        for w, t in self.emissions:\n",
    "            self.emissions_freq[self.word_dict[w], self.tag_dict[t]] = self.emissions[(w, t)]\n",
    "        \n",
    "        self.emissions_freq += 0.01\n",
    "        self.emissions_freq /= sum(self.emissions.values()) + 0.01*len(self.un_words)\n",
    "    \n",
    "    def get_emissions_freq(self, word_index, tag_index=None):\n",
    "        if word_index is None and tag_index is None:\n",
    "            return (np.zeros(len(self.un_tags)) + 0.01) / (sum(self.tags_transition.values()) + 0.01*len(self.un_tags))\n",
    "        elif tag_index is None:\n",
    "            return self.emissions_freq[word_index]\n",
    "        else:\n",
    "            return self.emissions_freq[:, tag_index]"
   ]
  },
  {
   "cell_type": "markdown",
   "metadata": {},
   "source": [
    "Загрузите brown корпус с универсальной системой тегирования. Для этого вам понадобятся ресурсы brown и universal_tagset из nltk.download().  В этой системе содержатся следующие теги:\n",
    "\n",
    "- ADJ - adjective (new, good, high, ...)\n",
    "- ADP - adposition\t(on, of, at, ...)\n",
    "- ADV - adverb\t(really, already, still, ...)\n",
    "- CONJ\t- conjunction\t(and, or, but, ...)\n",
    "- DET - determiner, article\t(the, a, some, ...)\n",
    "- NOUN\t- noun\t(year, home, costs, ...)\n",
    "- NUM - numeral\t(twenty-four, fourth, 1991, ...)\n",
    "- PRT -\tparticle (at, on, out, ...)\n",
    "- PRON - pronoun (he, their, her, ...)\n",
    "- VERB - verb (is, say, told, ...)\n",
    "- .\t- punctuation marks\t(. , ;)\n",
    "- X\t- other\t(ersatz, esprit, dunno, ...)\n",
    "\n",
    "Обратите внимание, что тегсеты в корпусах текстов и в различных теггерах могут быть разными. Проверять это можно, глядя на сами теги, а симптом - подозрительно низкое качество теггирования. В таких случаях рекомендуется всё приводить сперва к универсальному тегсету, а потом уже мерять качество. Полезной может оказаться эта ссылка http://www.nltk.org/_modules/nltk/tag/mapping.html\n",
    "\n",
    "Проанализируйте данные, с которыми Вы работаете. В частности, ответьте на вопросы:\n",
    "- Каков общий объем датасета, формат?\n",
    "- Приведены ли слова к нижнему регистру? Чем  это нам может в дальнейшем помешать?\n",
    "- Как распределены слова в корпусе?  Как распределены теги в корпусе? Подсчитайте частоты и отобразите любым удобным для Вас способом. Проинтерпретируйте полученные результаты.\n",
    "\n",
    "Задем сделайте случайное разбиение выборки на обучение и контроль в отношении 9:1 и обучите скрытую марковскую модель из предыдущего пункта. Если впоследствии обучение моделей будет занимать слишком много времени, работайте с подвыборкой, например, только текстами определенных категорий."
   ]
  },
  {
   "cell_type": "code",
   "execution_count": 4,
   "metadata": {
    "collapsed": false
   },
   "outputs": [
    {
     "name": "stdout",
     "output_type": "stream",
     "text": [
      "([(u'The', u'DET'), (u'Fulton', u'NOUN'), (u'County', u'NOUN'), (u'Grand', u'ADJ'), (u'Jury', u'NOUN'), (u'said', u'VERB'), (u'Friday', u'NOUN'), (u'an', u'DET'), (u'investigation', u'NOUN'), (u'of', u'ADP'), (u\"Atlanta's\", u'NOUN'), (u'recent', u'ADJ'), (u'primary', u'NOUN'), (u'election', u'NOUN'), (u'produced', u'VERB'), (u'``', u'.'), (u'no', u'DET'), (u'evidence', u'NOUN'), (u\"''\", u'.'), (u'that', u'ADP'), (u'any', u'DET'), (u'irregularities', u'NOUN'), (u'took', u'VERB'), (u'place', u'NOUN'), (u'.', u'.')], '\\n')\n",
      "[(u'The', u'DET'), (u'jury', u'NOUN'), (u'further', u'ADV'), (u'said', u'VERB'), (u'in', u'ADP'), (u'term-end', u'NOUN'), (u'presentments', u'NOUN'), (u'that', u'ADP'), (u'the', u'DET'), (u'City', u'NOUN'), (u'Executive', u'ADJ'), (u'Committee', u'NOUN'), (u',', u'.'), (u'which', u'DET'), (u'had', u'VERB'), (u'over-all', u'ADJ'), (u'charge', u'NOUN'), (u'of', u'ADP'), (u'the', u'DET'), (u'election', u'NOUN'), (u',', u'.'), (u'``', u'.'), (u'deserves', u'VERB'), (u'the', u'DET'), (u'praise', u'NOUN'), (u'and', u'CONJ'), (u'thanks', u'NOUN'), (u'of', u'ADP'), (u'the', u'DET'), (u'City', u'NOUN'), (u'of', u'ADP'), (u'Atlanta', u'NOUN'), (u\"''\", u'.'), (u'for', u'ADP'), (u'the', u'DET'), (u'manner', u'NOUN'), (u'in', u'ADP'), (u'which', u'DET'), (u'the', u'DET'), (u'election', u'NOUN'), (u'was', u'VERB'), (u'conducted', u'VERB'), (u'.', u'.')]\n"
     ]
    }
   ],
   "source": [
    "from nltk.corpus import brown\n",
    "import matplotlib.pyplot as plt\n",
    "import seaborn as sns\n",
    "%matplotlib inline\n",
    "\n",
    "brown_tagged_sents = brown.tagged_sents(tagset=\"universal\")\n",
    "print(brown_tagged_sents[0], '\\n')\n",
    "print(brown_tagged_sents[1])"
   ]
  },
  {
   "cell_type": "markdown",
   "metadata": {},
   "source": [
    "Корпус хранит данные в формате list(list(tuple(str, str))). Слова внутри не приведены к нижнему регистру, поэтому, например, \"the\" и \"The\" - это разные слова. В то же время, часть речи не зависит от величины букв, поэтому, скорее всего, приведение к нижнему регистру даст более точный результат, однако для чистоты эксперимента не будем этим заниматься."
   ]
  },
  {
   "cell_type": "code",
   "execution_count": 100,
   "metadata": {
    "collapsed": false
   },
   "outputs": [],
   "source": [
    "words_count = Counter(w[0] for w in chain(*brown_tagged_sents))"
   ]
  },
  {
   "cell_type": "code",
   "execution_count": 101,
   "metadata": {
    "collapsed": false
   },
   "outputs": [
    {
     "data": {
      "text/plain": [
       "[(u'the', 62713)]"
      ]
     },
     "execution_count": 101,
     "metadata": {},
     "output_type": "execute_result"
    }
   ],
   "source": [
    "words_count.most_common(1)"
   ]
  },
  {
   "cell_type": "code",
   "execution_count": 102,
   "metadata": {
    "collapsed": true
   },
   "outputs": [],
   "source": [
    "un_words = set(t[0] for t in chain(*brown_tagged_sents))"
   ]
  },
  {
   "cell_type": "code",
   "execution_count": 103,
   "metadata": {
    "collapsed": false
   },
   "outputs": [],
   "source": [
    "word_dict = {t:i for (i,t) in enumerate(un_words)}"
   ]
  },
  {
   "cell_type": "code",
   "execution_count": 104,
   "metadata": {
    "collapsed": false
   },
   "outputs": [],
   "source": [
    "empiric = np.array([62713.0/i for i in range(1, len(words_count)+1, 1)])"
   ]
  },
  {
   "cell_type": "code",
   "execution_count": 105,
   "metadata": {
    "collapsed": false
   },
   "outputs": [
    {
     "data": {
      "text/plain": [
       "<matplotlib.legend.Legend at 0x1d5c72e8>"
      ]
     },
     "execution_count": 105,
     "metadata": {},
     "output_type": "execute_result"
    },
    {
     "data": {
      "image/png": "[encoded data removed]",
      "text/plain": [
       "<matplotlib.figure.Figure at 0x1bb145c0>"
      ]
     },
     "metadata": {},
     "output_type": "display_data"
    }
   ],
   "source": [
    "plt.figure(figsize=(10, 3))\n",
    "plt.plot([n[1] for n in words_count.most_common()], 'r', linewidth=2, label='practical')\n",
    "plt.plot(empiric, 'b--', linewidth=1, label='Zipf-law')\n",
    "plt.ylabel('Count')\n",
    "plt.xlabel('i-th most common word')\n",
    "plt.yscale('log')\n",
    "plt.legend()"
   ]
  },
  {
   "cell_type": "markdown",
   "metadata": {},
   "source": [
    "Если расположить слова в порядке от самого частотного к самому низкочастотному, то видим, что распределение слов похоже на закон Ципфа. Закон подвергается критике, но им до сих пор пользуются при СЕО-оптимизации, так как считают, что естественные текст удовлетворяет этому закону (в отличии от сильно \"тошнотных\")."
   ]
  },
  {
   "cell_type": "code",
   "execution_count": 108,
   "metadata": {
    "collapsed": false
   },
   "outputs": [],
   "source": [
    "sent_lens = Counter(np.array([len(sent) for sent in brown_tagged_sents]))\n",
    "sent_lens = np.array(list(sent_lens.values()))"
   ]
  },
  {
   "cell_type": "code",
   "execution_count": 111,
   "metadata": {
    "collapsed": false
   },
   "outputs": [
    {
     "data": {
      "image/png": "[encoded data removed]",
      "text/plain": [
       "<matplotlib.figure.Figure at 0x1bb6e550>"
      ]
     },
     "metadata": {},
     "output_type": "display_data"
    }
   ],
   "source": [
    "ind = np.arange(len(sent_lens)) + 1\n",
    "plt.figure(figsize=(10, 3))\n",
    "width = 0.55\n",
    "plt.bar(ind, sent_lens/float(sent_lens.sum()), width, alpha=0.6, label='Sent lens distribution')\n",
    "\n",
    "x = np.arange(1, 100, 0.05)\n",
    "y = 1/np.sqrt(2*144*np.pi) * np.exp(-(x-13)**2/(2*144))\n",
    "plt.plot(x, y, 'r--', linewidth=2, label='Normal distribution with $\\\\mu=13, \\\\sigma=12$')\n",
    "\n",
    "plt.ylabel('Frequency')\n",
    "plt.title('Count of sents')\n",
    "plt.legend()\n",
    "plt.tight_layout()"
   ]
  },
  {
   "cell_type": "markdown",
   "metadata": {},
   "source": [
    "Число слов в предложении похоже на нормальное распределение с некоторыми говорками. В принципе, здесь сложно было ожидать что-то другое: предложение имеет какую-то среднюю длину и редко бывает очень коротким или длинным. "
   ]
  },
  {
   "cell_type": "code",
   "execution_count": 112,
   "metadata": {
    "collapsed": false
   },
   "outputs": [],
   "source": [
    "tags_count = Counter(t[1] for t in chain(*brown_tagged_sents))"
   ]
  },
  {
   "cell_type": "code",
   "execution_count": 113,
   "metadata": {
    "collapsed": false
   },
   "outputs": [],
   "source": [
    "tags_count_most_common = tags_count.most_common()"
   ]
  },
  {
   "cell_type": "code",
   "execution_count": 114,
   "metadata": {
    "collapsed": false
   },
   "outputs": [
    {
     "data": {
      "image/png": "[encoded data removed]",
      "text/plain": [
       "<matplotlib.figure.Figure at 0x1b7a1d30>"
      ]
     },
     "metadata": {},
     "output_type": "display_data"
    }
   ],
   "source": [
    "ind = np.arange(12)\n",
    "plt.figure(figsize=(10, 3))\n",
    "width = 0.35\n",
    "plt.bar(ind, [t[1] for t in tags_count_most_common], width)\n",
    "plt.ylabel('Count')\n",
    "plt.title('Count of tags')\n",
    "plt.xticks(ind + width/2, [t[0] for t in tags_count_most_common])\n",
    "plt.tight_layout()"
   ]
  },
  {
   "cell_type": "markdown",
   "metadata": {},
   "source": [
    "Среди тегов самыми употребимыми являются глаголы и существительные, что тоже неудивительно - эти части речи основа повествования."
   ]
  },
  {
   "cell_type": "code",
   "execution_count": 115,
   "metadata": {
    "collapsed": false
   },
   "outputs": [],
   "source": [
    "from sklearn.model_selection import train_test_split"
   ]
  },
  {
   "cell_type": "code",
   "execution_count": 117,
   "metadata": {
    "collapsed": false
   },
   "outputs": [],
   "source": [
    "brown_tagged_train, brown_tagged_test = train_test_split(brown_tagged_sents, test_size=0.1, random_state=666)"
   ]
  },
  {
   "cell_type": "markdown",
   "metadata": {},
   "source": [
    "#### 1.2 Алгоритм Витерби для применения модели\n",
    "\n",
    "Чтобы использовать обученную модель для определения частей речи на новых данных, необходимо реализовать алгоритм Витерби. Это алгоритм динамиеского программирования, с помощью которого мы будем находить наиболее вероятную последовательность скрытых состояний модели для фиксированной последовательности слов:\n",
    "\n",
    "$$ \\hat{T} = \\arg \\max_{T} p(T|X) = \\arg \\max_{T} p(X, T) $$"
   ]
  },
  {
   "cell_type": "markdown",
   "metadata": {},
   "source": [
    "Определим функцию, определяющую максимальную вероятность последовательности, заканчивающейся на $i$-ой позиции в состоянии $k$:\n",
    "\n",
    "$$\\delta(k, i) = \\max_{t_1, \\dots t_{i-1}} p(x_1, \\dots x_i, t_1, \\dots t_i=k)$$\n",
    "\n",
    "Тогда $\\max_{k} \\delta(k, N)$ - максимальная вероятность всей последовательности. А состояния, на которых эта вероятность достигается - ответ задачи.\n",
    "\n",
    "Алгоритм Витерби заключается в последовательном пересчете функции $\\delta(k, i)$ по формуле:\n",
    "\n",
    "$$\\delta(k, i) = \\max_{m} \\delta(m, i-1) p(t_i = k|t_{i-1} = m) p(x_i|t_i=k) $$\n",
    "\n",
    "Аналогично пересчитывается функция, определяющая, на каком состоянии этот максимум достигается:\n",
    "\n",
    "$$s(k, i) = \\arg \\max_{m} \\delta(m, i-1) p(t_i = k|t_{i-1} = m) p(x_i|t_i=k) $$\n",
    "\n",
    "\n",
    "На практике это означает заполнение двумерных массивов размерности: (длина последовательности) $\\times$ (количество возможных состояний). Когда массивы заполнены, $\\arg \\max_{k} \\delta(k, N)$ говорит о последнем состоянии. Начиная с него можно восстановить все состояния по массиву $s$. \n",
    "\n",
    "Осталось уточнить, как стартовать последовательный пересчет (чем заполнить первый столбец массива вероятностей):\n",
    "\n",
    "$$\\delta(k, 1) = p(k) p(x_1|t_1=k)$$\n",
    "\n",
    "В реализации рекомендуется перейти к логарифмам, т.к. произведение большого числа маленьких вероятностей может приводить к вычислительным ошибкам."
   ]
  },
  {
   "cell_type": "code",
   "execution_count": 118,
   "metadata": {
    "collapsed": false
   },
   "outputs": [
    {
     "name": "stdout",
     "output_type": "stream",
     "text": [
      "Wall time: 2.46 s\n"
     ]
    }
   ],
   "source": [
    "%%time\n",
    "my_hmm = My_HMM(brown_tagged_train)"
   ]
  },
  {
   "cell_type": "code",
   "execution_count": 119,
   "metadata": {
    "collapsed": false
   },
   "outputs": [],
   "source": [
    "def viterbi_algorithm(test_tokens_list):\n",
    "    m = np.zeros((len(my_hmm.un_tags), len(test_tokens_list)))\n",
    "    token = test_tokens_list[0]\n",
    "    m[:, 0] = -np.log(1.0/len(my_hmm.un_tags)) - np.log(my_hmm.get_emissions_freq(my_hmm.word_dict.get(token)))\n",
    "    \n",
    "    for i,token in enumerate(test_tokens_list[1:]):\n",
    "        emissions = -np.log(my_hmm.get_emissions_freq(my_hmm.word_dict.get(token)).copy())\n",
    "        for k in range(len(my_hmm.un_tags)):\n",
    "            emissions[k] += np.min(-np.log((m[:, i])) - np.log(my_hmm.transitions_freq[:, k]))\n",
    "        m[:, i+1] = emissions\n",
    "        \n",
    "    inverse_tag_dict = {v:k for (k,v) in my_hmm.tag_dict.items()}\n",
    "    return [(token, inverse_tag_dict[np.argmin(m[:, i])]) for i,token in enumerate(test_tokens_list)]"
   ]
  },
  {
   "cell_type": "markdown",
   "metadata": {},
   "source": [
    "Проверьте работу реализованного алгоритма на следующих модельных примерах, проинтерпретируйте результат.\n",
    "\n",
    "- 'he can stay'\n",
    "- 'a milk can'\n",
    "- 'i saw a dog'\n",
    "- 'an old saw'"
   ]
  },
  {
   "cell_type": "code",
   "execution_count": 120,
   "metadata": {
    "collapsed": false
   },
   "outputs": [
    {
     "data": {
      "text/plain": [
       "[(u'he', u'PRON'), (u'can', u'VERB'), (u'stay', u'VERB')]"
      ]
     },
     "execution_count": 120,
     "metadata": {},
     "output_type": "execute_result"
    }
   ],
   "source": [
    "viterbi_algorithm(u'he can stay'.split())"
   ]
  },
  {
   "cell_type": "code",
   "execution_count": 121,
   "metadata": {
    "collapsed": false
   },
   "outputs": [
    {
     "data": {
      "text/plain": [
       "[('a', u'DET'), ('milk', u'NOUN'), ('can', u'VERB')]"
      ]
     },
     "execution_count": 121,
     "metadata": {},
     "output_type": "execute_result"
    }
   ],
   "source": [
    "viterbi_algorithm('a milk can'.split())"
   ]
  },
  {
   "cell_type": "code",
   "execution_count": 122,
   "metadata": {
    "collapsed": false
   },
   "outputs": [
    {
     "data": {
      "text/plain": [
       "[('i', u'NOUN'), ('saw', u'VERB'), ('a', u'DET'), ('dog', u'NOUN')]"
      ]
     },
     "execution_count": 122,
     "metadata": {},
     "output_type": "execute_result"
    }
   ],
   "source": [
    "viterbi_algorithm('i saw a dog'.split())"
   ]
  },
  {
   "cell_type": "code",
   "execution_count": 123,
   "metadata": {
    "collapsed": false
   },
   "outputs": [
    {
     "data": {
      "text/plain": [
       "[('an', u'DET'), ('old', u'ADJ'), ('saw', u'VERB')]"
      ]
     },
     "execution_count": 123,
     "metadata": {},
     "output_type": "execute_result"
    }
   ],
   "source": [
    "viterbi_algorithm('an old saw'.split())"
   ]
  },
  {
   "cell_type": "markdown",
   "metadata": {},
   "source": [
    "Модельные примеры с достоинством прошли испытание. Единственная ошибка в предложении 'i saw a dog': I - это местоимение, а не существительное. "
   ]
  },
  {
   "cell_type": "markdown",
   "metadata": {},
   "source": [
    "Примените модель к отложенной выборке Брауновского корпуса и подсчитайте точность определения тегов (accuracy). Сделайте выводы. "
   ]
  },
  {
   "cell_type": "code",
   "execution_count": 124,
   "metadata": {
    "collapsed": false
   },
   "outputs": [
    {
     "name": "stdout",
     "output_type": "stream",
     "text": [
      "0.930009612414\n",
      "Wall time: 9.74 s\n"
     ]
    }
   ],
   "source": [
    "%%time\n",
    "# your code here\n",
    "errors = 0.0\n",
    "for sent in brown_tagged_test:\n",
    "    tokens = [t[0] for t in sent]\n",
    "    tags = [t[1] for t in sent]\n",
    "    vit = viterbi_algorithm(tokens)\n",
    "    errors += sum([v!=s for v,s in zip(vit,sent)])\n",
    "print(1.0 - errors / len(list(chain(*brown_tagged_test))))"
   ]
  },
  {
   "cell_type": "markdown",
   "metadata": {},
   "source": [
    "93% полностью без аугментаций данных и дополнительных моделей - очень достойный результат для наивной реализации скрытой марковской цепи. \n",
    "Скорее всего такой положительный результат обеспечен еще и структурной простотой английского языка, для которого HMM действительно удачная модель в силу детерминированности порядка тегов в предложении (есть мнение, что в немецком это тоже будет работать, так как там предложения тоже имеют предельно определенную структуру)."
   ]
  },
  {
   "cell_type": "markdown",
   "metadata": {},
   "source": [
    "#### 1.3. Готовые POS-теггеры из NLTK"
   ]
  },
  {
   "cell_type": "markdown",
   "metadata": {},
   "source": [
    "В прошлом пункте Вы реализовали свой POS-тегер на основе скрытой марковской модели. Теперь сравните его работу с готовыми средставми, доступными в библиотеке NLTK: http://www.nltk.org/api/nltk.tag.html"
   ]
  },
  {
   "cell_type": "markdown",
   "metadata": {},
   "source": [
    "Примерный набор кандидатов для сравнения:\n",
    "- Простейший теггер, который всем словам ставит в соответствие одну и ту же метку\n",
    "- Основанный на правилах RegexpTagger (правила можно поискать в Интернете или придумать самим)\n",
    "- N-граммные теггеры (разберитесь и поэкспериментируйте с параметром backoff)\n",
    "- Теггеры на основе графических моделей (можно взять только Stanford): \n",
    "    - HiddenMarkovModelTagger\n",
    "    - CRFTagger\n",
    "    - StanfordPOSTagger (потребуется .jar файл теггера и обученная модель (легко находятся в Интернете), чтобы подать на вход конструктору класса)\n",
    "- BrillTagger, основанный на трансформациях\n",
    "\n",
    "Если работа с какими-то модулями приводит к техническим проблемам, которые Вы не можете решить, это не страшно, модуль можно пропустить. Однако навык быстрого освоения документации / поиска моделей в гугле полезен.  Чем более полным и корректным будет сравнение, тем лучше.\n",
    "\n",
    "При проведении экспериментов обращайте внимание на следующие моменты (и отразите их в отчете):\n",
    "- Какой подход лежит в основе теггера\n",
    "- На каких данных он обучен (если Вы скачали готовую модель)\n",
    "- Сколько времени занимает обучение на brown корпусе (если обучаете сами)\n",
    "- Какая точность получается на контролькой выборке (метод evaluate())\n",
    "\n",
    "Сформируйте рекоммендиции о том, какую технологию Вы бы использовали, если встретитесь с задачей определения частей речи в будущем."
   ]
  },
  {
   "cell_type": "code",
   "execution_count": 33,
   "metadata": {
    "collapsed": false
   },
   "outputs": [],
   "source": [
    "import nltk\n",
    "from nltk.tag import DefaultTagger\n",
    "from nltk.tag import RegexpTagger\n",
    "from nltk.tag import UnigramTagger\n",
    "from nltk.tag import BigramTagger\n",
    "from nltk.tag import TrigramTagger\n",
    "from nltk.tag.stanford import StanfordPOSTagger\n",
    "# your code here"
   ]
  },
  {
   "cell_type": "markdown",
   "metadata": {},
   "source": [
    "#### DefaultTagger"
   ]
  },
  {
   "cell_type": "code",
   "execution_count": 34,
   "metadata": {
    "collapsed": false
   },
   "outputs": [
    {
     "name": "stdout",
     "output_type": "stream",
     "text": [
      "Wall time: 0 ns\n"
     ]
    }
   ],
   "source": [
    "%%time\n",
    "tagger_default = DefaultTagger('NOUN')"
   ]
  },
  {
   "cell_type": "code",
   "execution_count": 35,
   "metadata": {
    "collapsed": false
   },
   "outputs": [
    {
     "data": {
      "text/plain": [
       "0.23615443084423243"
      ]
     },
     "execution_count": 35,
     "metadata": {},
     "output_type": "execute_result"
    }
   ],
   "source": [
    "tagger_default.evaluate(gold=brown_tagged_test)"
   ]
  },
  {
   "cell_type": "markdown",
   "metadata": {},
   "source": [
    "Фантастический теггер, который просто всем словам ставит одну метку. Очевидно, что нужно взять просто самую высокочастотную - существительное - и не ожидать впечатляющих результатов. Обучения тут в принципе нет, точность 23,6%, но может колебаться от жанра к жанру. Этот теггер подойдет только для заглушки в метод backoff для других теггеров."
   ]
  },
  {
   "cell_type": "markdown",
   "metadata": {},
   "source": [
    "#### RegexpTagger"
   ]
  },
  {
   "cell_type": "markdown",
   "metadata": {},
   "source": [
    "Простой теггер, который по правилам, задающимися при помощи регулярных выражений, ставит в соответствие тег. От количества и качества выбранных правил зависит качествою"
   ]
  },
  {
   "cell_type": "code",
   "execution_count": 304,
   "metadata": {
    "collapsed": true
   },
   "outputs": [],
   "source": [
    "regexp_tagger = RegexpTagger(\n",
    "    [(r'^-?[0-9]+(.[0-9]+)?$', 'NUM'), \n",
    "    (r'(The|the|A|a|An|an)$', 'DET'), \n",
    "    (r'.*able$', 'ADJ'), \n",
    "    (r'.*ness$', 'ADJ'), \n",
    "    (r'.*ly$', 'ADV'), \n",
    "    (r'(.|,|!|\\?|:|;)$', '.'),\n",
    "    (r'(on|of|at|On|Of|At)$', 'ADP'),\n",
    "    (r'(Already|already|still|Still)$', 'ADV'),\n",
    "    (r'(And|and|Or|or|But|but)$', 'CONJ'), \n",
    "    (r'.*ing$', 'VERB'), \n",
    "    (r'.*ed$', 'VERB'), \n",
    "    (r'.*', 'NOUN')])"
   ]
  },
  {
   "cell_type": "code",
   "execution_count": 303,
   "metadata": {
    "collapsed": false
   },
   "outputs": [
    {
     "data": {
      "text/plain": [
       "0.5641456967283464"
      ]
     },
     "execution_count": 303,
     "metadata": {},
     "output_type": "execute_result"
    }
   ],
   "source": [
    "regexp_tagger.evaluate(gold=brown_tagged_test)"
   ]
  },
  {
   "cell_type": "markdown",
   "metadata": {},
   "source": [
    "Ожидаемо имеет невысокое качество. Обучения как такового нет, а вот правила подбирать надо вручную. Кроме того, нельзя учитывать взаимодействие тегов (по крайней мере напрямую). Вывод - подходит только для совсем примитивных сценариев, когда нет никакой возможности брать другие теггеры. Гораздо проще скачать готовый StanfordPOSTagger с гораздо более высокой точности и без необходимости кропотливого составления правил."
   ]
  },
  {
   "cell_type": "markdown",
   "metadata": {},
   "source": [
    "#### NgramTagger"
   ]
  },
  {
   "cell_type": "code",
   "execution_count": 127,
   "metadata": {
    "collapsed": false
   },
   "outputs": [
    {
     "name": "stdout",
     "output_type": "stream",
     "text": [
      "Wall time: 2.11 s\n"
     ]
    }
   ],
   "source": [
    "%%time\n",
    "tagger_uni = UnigramTagger(brown_tagged_train)"
   ]
  },
  {
   "cell_type": "code",
   "execution_count": 128,
   "metadata": {
    "collapsed": false
   },
   "outputs": [
    {
     "data": {
      "text/plain": [
       "0.9320694153592639"
      ]
     },
     "execution_count": 128,
     "metadata": {},
     "output_type": "execute_result"
    }
   ],
   "source": [
    "tagger_uni.evaluate(gold=brown_tagged_test)"
   ]
  },
  {
   "cell_type": "code",
   "execution_count": 129,
   "metadata": {
    "collapsed": false
   },
   "outputs": [
    {
     "name": "stdout",
     "output_type": "stream",
     "text": [
      "Wall time: 4.67 s\n"
     ]
    }
   ],
   "source": [
    "%%time\n",
    "tagger_bi = BigramTagger(brown_tagged_train, backoff=tagger_uni)"
   ]
  },
  {
   "cell_type": "code",
   "execution_count": 130,
   "metadata": {
    "collapsed": false
   },
   "outputs": [
    {
     "data": {
      "text/plain": [
       "0.9405661025095265"
      ]
     },
     "execution_count": 130,
     "metadata": {},
     "output_type": "execute_result"
    }
   ],
   "source": [
    "tagger_bi.evaluate(gold=brown_tagged_test)"
   ]
  },
  {
   "cell_type": "code",
   "execution_count": 131,
   "metadata": {
    "collapsed": false
   },
   "outputs": [
    {
     "name": "stdout",
     "output_type": "stream",
     "text": [
      "Wall time: 5.9 s\n"
     ]
    }
   ],
   "source": [
    "%%time\n",
    "tagger_tri = TrigramTagger(brown_tagged_train, backoff=tagger_bi)"
   ]
  },
  {
   "cell_type": "code",
   "execution_count": 132,
   "metadata": {
    "collapsed": false
   },
   "outputs": [
    {
     "data": {
      "text/plain": [
       "0.940085481822239"
      ]
     },
     "execution_count": 132,
     "metadata": {},
     "output_type": "execute_result"
    }
   ],
   "source": [
    "tagger_tri.evaluate(gold=brown_tagged_test)"
   ]
  },
  {
   "cell_type": "markdown",
   "metadata": {},
   "source": [
    "Обратимся к нетленной Википедии: An n-gram model is a type of probabilistic language model for predicting the next item in such a sequence in the form of a $(n-1)$–order Markov model. Backoff - теггер, к которому обращается целевой, если сам не может определить часть речи. С первого вгляда кажется, что с увеличением $n$ в $n$-граммах точность должна расти, но это не так. Более того, без последовательной передачи предыдущей $n-1$-граммной модели точность сильно падает. \n",
    "\n",
    "В остальном же метод показывает достаточно высокую точность, быстро обучается."
   ]
  },
  {
   "cell_type": "markdown",
   "metadata": {},
   "source": [
    "#### BrillTagger\n",
    "Вновь обратимся к бессмертной классике:\n",
    "\n",
    "The Brill tagger is an inductive method for part-of-speech tagging. It was described and invented by Eric Brill in his 1995 PhD thesis. It can be summarized as an \"error-driven transformation-based tagger\". It is\n",
    "\n",
    "1) a form of supervised learning, which aims to minimize error\n",
    "\n",
    "2) transformation-based in the sense that a tag is assigned to each word and changed using a set of predefined rules. Note: If the word is known, it first assigns the most frequent tag, or if the word is unknown, it naively assigns the tag \"noun\" to it. Applying over and over these rules, changing the incorrect tags, a quite high accuracy is achieved. This approach ensures that valuable information such as morphosyntact construct of words are employed in an automatic tagging process."
   ]
  },
  {
   "cell_type": "code",
   "execution_count": 133,
   "metadata": {
    "collapsed": true
   },
   "outputs": [],
   "source": [
    "from nltk.tag.brill_trainer import BrillTaggerTrainer\n",
    "from nltk.tag.brill import fntbl37, Template"
   ]
  },
  {
   "cell_type": "code",
   "execution_count": 134,
   "metadata": {
    "collapsed": false,
    "scrolled": true
   },
   "outputs": [
    {
     "name": "stdout",
     "output_type": "stream",
     "text": [
      "Wall time: 49.3 s\n"
     ]
    }
   ],
   "source": [
    "%%time\n",
    "Template._cleartemplates()\n",
    "templates = fntbl37()\n",
    "tagger_init = tagger_bi\n",
    "tagger_brill = BrillTaggerTrainer(tagger_init, templates, trace=0)\n",
    "tagger_brill = tagger_brill.train(brown_tagged_train[:10000], max_rules=50)"
   ]
  },
  {
   "cell_type": "code",
   "execution_count": 135,
   "metadata": {
    "collapsed": false
   },
   "outputs": [
    {
     "data": {
      "text/plain": [
       "0.9533025507226476"
      ]
     },
     "execution_count": 135,
     "metadata": {},
     "output_type": "execute_result"
    }
   ],
   "source": [
    "tagger_brill.evaluate(gold=brown_tagged_test)"
   ]
  },
  {
   "cell_type": "markdown",
   "metadata": {},
   "source": [
    "nltk предлагает большой набор уже готовых шаблонов, возьмем самый крупный - fntbl37. На Python 2 теггер учится в 3 раза дольше, чем на 3 версии, причем на всем корпусе обучить модель не удалось. В качестве стартовой модели была взята самая удачная модель до этого основанная на биграммах. В целом очень удачный теггер, даже на небольшой подвыборке можно увеличить качество распознавания других теггеров."
   ]
  },
  {
   "cell_type": "markdown",
   "metadata": {},
   "source": [
    "#### Теггеры на основе графических моделей"
   ]
  },
  {
   "cell_type": "code",
   "execution_count": 136,
   "metadata": {
    "collapsed": true
   },
   "outputs": [],
   "source": [
    "from nltk.tag.hmm import HiddenMarkovModelTrainer"
   ]
  },
  {
   "cell_type": "code",
   "execution_count": 137,
   "metadata": {
    "collapsed": false
   },
   "outputs": [
    {
     "name": "stdout",
     "output_type": "stream",
     "text": [
      "Wall time: 1.6 s\n"
     ]
    }
   ],
   "source": [
    "%%time\n",
    "trainer = HiddenMarkovModelTrainer()\n",
    "tagger_markov = trainer.train_supervised(brown_tagged_train)"
   ]
  },
  {
   "cell_type": "code",
   "execution_count": 138,
   "metadata": {
    "collapsed": false
   },
   "outputs": [
    {
     "data": {
      "text/plain": [
       "0.7647275910604552"
      ]
     },
     "execution_count": 138,
     "metadata": {},
     "output_type": "execute_result"
    }
   ],
   "source": [
    "tagger_markov.evaluate(gold=brown_tagged_test)"
   ]
  },
  {
   "cell_type": "markdown",
   "metadata": {},
   "source": [
    "Совершим магию преобразования к универсальному тагсету для теггера из Стэнфорда."
   ]
  },
  {
   "cell_type": "code",
   "execution_count": 139,
   "metadata": {
    "collapsed": false
   },
   "outputs": [],
   "source": [
    "from collections import defaultdict\n",
    "from os.path import join\n",
    "from nltk.data import load\n",
    "\n",
    "_UNIVERSAL_DATA = \"taggers/universal_tagset\"\n",
    "_UNIVERSAL_TAGS = ('VERB','NOUN','PRON','ADJ','ADV','ADP','CONJ','DET','NUM','PRT','X','.')\n",
    "_MAPPINGS = defaultdict(lambda: defaultdict(lambda: defaultdict(lambda: 'UNK')))\n",
    "\n",
    "\n",
    "def _load_universal_map(fileid):\n",
    "    contents = load(join(_UNIVERSAL_DATA, fileid+'.map'), format=\"text\")\n",
    "    _MAPPINGS[fileid]['universal'].default_factory = lambda: 'X'\n",
    "\n",
    "    for line in contents.splitlines():\n",
    "        line = line.strip()\n",
    "        if line == '':\n",
    "            continue\n",
    "        fine, coarse = line.split('\\t')\n",
    "\n",
    "        assert coarse in _UNIVERSAL_TAGS, 'Unexpected coarse tag: {}'.format(coarse)\n",
    "        assert fine not in _MAPPINGS[fileid]['universal'], 'Multiple entries for original tag: {}'.format(fine)\n",
    "\n",
    "        _MAPPINGS[fileid]['universal'][fine] = coarse\n",
    "\n",
    "\n",
    "def tagset_mapping(source, target):\n",
    "    if source not in _MAPPINGS or target not in _MAPPINGS[source]:\n",
    "        if target == 'universal':\n",
    "            _load_universal_map(source)\n",
    "    return _MAPPINGS[source][target]\n",
    "\n",
    "\n",
    "def map_tag(source, target, source_tag):\n",
    "    # we need a systematic approach to naming\n",
    "    if target == 'universal':\n",
    "        if source == 'wsj':\n",
    "            source = 'en-ptb'\n",
    "        if source == 'brown':\n",
    "            source = 'en-brown'\n",
    "\n",
    "    return tagset_mapping(source, target)[source_tag]"
   ]
  },
  {
   "cell_type": "code",
   "execution_count": 305,
   "metadata": {
    "collapsed": false
   },
   "outputs": [],
   "source": [
    "stanford_dir = r'C:\\development\\stanford-postagger-2016-10-31\\\\'\n",
    "modelfile = stanford_dir + r'models\\english-bidirectional-distsim.tagger'\n",
    "jarfile = stanford_dir + r'stanford-postagger-3.7.0.jar'\n",
    "tagger_st = StanfordPOSTagger(model_filename=modelfile, path_to_jar=jarfile)"
   ]
  },
  {
   "cell_type": "code",
   "execution_count": 306,
   "metadata": {
    "collapsed": false
   },
   "outputs": [
    {
     "name": "stdout",
     "output_type": "stream",
     "text": [
      "Wall time: 1min 27s\n"
     ]
    }
   ],
   "source": [
    "%%time\n",
    "predict = tagger_st.tag_sents([[t[0] for t in sent] for sent in brown_tagged_test])"
   ]
  },
  {
   "cell_type": "code",
   "execution_count": 307,
   "metadata": {
    "collapsed": false
   },
   "outputs": [],
   "source": [
    "forecast = np.array(list(map(lambda x: map_tag('en-ptb', 'universal', x), [t[1] for t in chain(*predict)])))"
   ]
  },
  {
   "cell_type": "code",
   "execution_count": 308,
   "metadata": {
    "collapsed": false
   },
   "outputs": [],
   "source": [
    "tags = np.array(list(chain(*[[t[1] for t in sent] for sent in brown_tagged_test])))"
   ]
  },
  {
   "cell_type": "code",
   "execution_count": 309,
   "metadata": {
    "collapsed": false
   },
   "outputs": [
    {
     "data": {
      "text/plain": [
       "0.9260530742558962"
      ]
     },
     "execution_count": 309,
     "metadata": {},
     "output_type": "execute_result"
    }
   ],
   "source": [
    "float(sum(forecast == tags)) / len(list(chain(*brown_tagged_test)))"
   ]
  },
  {
   "cell_type": "markdown",
   "metadata": {},
   "source": [
    "HiddenMarkovModelTrainer - что-то очень медленное и неточное. Возможно я не до конца понял как его настраивать, но потрясающая документация и неплохая точность других теггеров (в совокупности с тем, что этот предсказывает ОЧЕНЬ долго) убили желание разбираться.\n",
    "\n",
    "StanfordPOSTagger - вторая модель из этого же класса. Это единственная модель, которую не пришлось учить, так как готовую можно скачать с оф сайта. Быстро работает, дает высокую точность."
   ]
  },
  {
   "cell_type": "markdown",
   "metadata": {},
   "source": [
    "#### Коротко обо всем по теме POS"
   ]
  },
  {
   "cell_type": "markdown",
   "metadata": {},
   "source": [
    "В принципе, для простого структурно английского языка все теггеры показали неплохое качество. Даже самостоятельно реализованный алгорим Витерби работает достаточно неплохо. Но все же самой сильной мне видится связка StanfordPOSTagger+BrillTagger. Первый есть в обученном варианте и показывает высокую точность (а еще поддерживается ведущим университетом мира), второй может быстро на ограниченной подвыборке повысить точность распознавания. На крайний случай можно заменить StanfordPOSTagger на BigramTagger, который очень легко обучить. "
   ]
  },
  {
   "cell_type": "markdown",
   "metadata": {},
   "source": [
    "### 2. Выделение именованных сущностей (NER)\n",
    "\n"
   ]
  },
  {
   "cell_type": "markdown",
   "metadata": {},
   "source": [
    "#### 2.1. Генерация признаков для CRF"
   ]
  },
  {
   "cell_type": "markdown",
   "metadata": {},
   "source": [
    "Выделение именованных сущностей - другая распространенная задача разметки последовательности слов. Чаще всего она решается марковскими моделями максимальной энтропии (MEMM) или условными случайными полями (CRF). При этом основная сложность заключается в генерации  хороших признаков. \n",
    "\n",
    "В данном задании Вам требуется придумать и использовать множество признаков для обучения CRF из библиотеки CRFsuite. В этой библиотеке реализована linear-chain CRF с потенциалами двух типов (аналогично HMM):\n",
    "\n",
    "$$ \\psi_{mk}(t_{i-1}, t_{i}) = [t_{i-1} = m] \\, [t_{i} = k]; \\quad \\psi_{jk}(t_{i}, x_i) = [t_{i} = k] \\, f_j(x_i)$$\n",
    "\n",
    "\n",
    "Потенциалы первого типа назвают transition features, они зависят только от биграмм меток. Потенциалы второго типа -- label-observation (node-observation) featrues; они зависят от метки и признаков наблюдаемого слова (observation features). Несмотря на то, что в формуле явно участвует текущее слово $x_i$, подход остается полностью корректным, когда признаки зависят также от контекста слова (соседних слов). Это следствие того, что CRF является дискриминативной моделью, и наблюдаемые переменные $X$ не моделируются. \n"
   ]
  },
  {
   "cell_type": "markdown",
   "metadata": {},
   "source": [
    "**Указания к заданию:** \n",
    "- Загрузите из NLTK обучающие и тестовые датасеты для задачи выделения именованных сущеностей CoNLL 2002 shared task на английском, испанском и голландском языках в BIO-нотации (nltk.corpus.conll2002).\n",
    "- Для обучения CRF модели библиотеке необходимо передать последовательность наблюдаемых признаков $f_j(x_i)$ и меток $y_i$. Ниже приведен весь технический код, который позволит сконцентрироваться только на самом творческом этапе -- генерации признаков.\n",
    "- Оцените качество приведенного решения. \n",
    "- Ваша задача заключается в том, чтобы повысить его. Помимо генерации новых признаков, можно обратить внимание на параметры обучения, в частности, feature.minfreq позволяет отсеивать редкие признаки.  \n",
    "- При проверке задания будет оцениваться как достигнутое качество, так и разнообразие/оригинальность использованных признаков. Если вы попробовали какие-то признаки, но они не помогли, также включите их в отчет. \n",
    "- Если у Вас закончилась фантазия, почитайте обзоры и статьи по теме.\n"
   ]
  },
  {
   "cell_type": "code",
   "execution_count": 160,
   "metadata": {
    "collapsed": true
   },
   "outputs": [],
   "source": [
    "from nltk.corpus import conll2002, conll2000"
   ]
  },
  {
   "cell_type": "code",
   "execution_count": 166,
   "metadata": {
    "collapsed": false
   },
   "outputs": [
    {
     "data": {
      "text/plain": [
       "[u'esp.testa',\n",
       " u'esp.testb',\n",
       " u'esp.train',\n",
       " u'ned.testa',\n",
       " u'ned.testb',\n",
       " u'ned.train']"
      ]
     },
     "execution_count": 166,
     "metadata": {},
     "output_type": "execute_result"
    }
   ],
   "source": [
    "conll2002.fileids()"
   ]
  },
  {
   "cell_type": "markdown",
   "metadata": {},
   "source": [
    "В корпусе conll2002 нет английского, поэтому возьмем текст на этом языке из conll2000."
   ]
  },
  {
   "cell_type": "code",
   "execution_count": 252,
   "metadata": {
    "collapsed": false
   },
   "outputs": [
    {
     "data": {
      "text/plain": [
       "['train.txt', 'test.txt']"
      ]
     },
     "execution_count": 252,
     "metadata": {},
     "output_type": "execute_result"
    }
   ],
   "source": [
    "conll2000.fileids()"
   ]
  },
  {
   "cell_type": "code",
   "execution_count": 167,
   "metadata": {
    "collapsed": false
   },
   "outputs": [],
   "source": [
    "train_sents_n = list(conll2002.iob_sents('ned.train'))\n",
    "test_sents_n = list(conll2002.iob_sents('ned.testa'))\n",
    "\n",
    "train_sents_s = list(conll2002.iob_sents('esp.train'))\n",
    "test_sents_s = list(conll2002.iob_sents('esp.testa'))"
   ]
  },
  {
   "cell_type": "code",
   "execution_count": 253,
   "metadata": {
    "collapsed": true
   },
   "outputs": [],
   "source": [
    "train_sents_e = list(conll2000.iob_sents('train.txt'))\n",
    "test_sents_e = list(conll2000.iob_sents('test.txt'))"
   ]
  },
  {
   "cell_type": "code",
   "execution_count": 254,
   "metadata": {
    "collapsed": true
   },
   "outputs": [],
   "source": [
    "# Let's define very simple example features.\n",
    "\n",
    "def word2features(sent, i):\n",
    "    word = sent[i][0]\n",
    "    postag = sent[i][1]\n",
    "    features = [\n",
    "        'bias',\n",
    "        'word.lower=' + word.lower(),\n",
    "        'word[-3:]=' + word[-3:],\n",
    "        'word.isupper=%s' % word.isupper(),\n",
    "        'postag=' + postag,\n",
    "        # your code here\n",
    "    ]\n",
    "    if i > 0:\n",
    "        word1 = sent[i-1][0]\n",
    "        postag1 = sent[i-1][1]\n",
    "        features.extend([\n",
    "            '-1:word.lower=' + word1.lower(),\n",
    "            '-1:word.isupper=%s' % word1.isupper(),\n",
    "            '-1:postag=' + postag1,\n",
    "            # your code here\n",
    "        ])\n",
    "    else:\n",
    "        features.append('BOS')\n",
    "        \n",
    "    # your code here\n",
    "    \n",
    "    return features\n",
    "\n",
    "\n",
    "def sent2features(sent):\n",
    "    return [word2features(sent, i) for i in range(len(sent))]\n",
    "\n",
    "def sent2labels(sent):\n",
    "    return [label for token, postag, label in sent]"
   ]
  },
  {
   "cell_type": "code",
   "execution_count": 255,
   "metadata": {
    "collapsed": false
   },
   "outputs": [],
   "source": [
    "# Let's prepare functions for more comfortable work with pycrfsuite.\n",
    "\n",
    "import pycrfsuite\n",
    "\n",
    "MODEL_NAME = 'model.crfsuite'\n",
    "\n",
    "def train(train):\n",
    "    X_train = [sent2features(s) for s in train]\n",
    "    y_train = [sent2labels(s) for s in train]\n",
    "\n",
    "    trainer = pycrfsuite.Trainer(verbose=False)\n",
    "\n",
    "    trainer.set_params({'c1': 1.0, 'c2': 1e-3, 'max_iterations': 50,\n",
    "                        'feature.possible_transitions': True})\n",
    "\n",
    "    for xseq, yseq in zip(X_train, y_train):\n",
    "        trainer.append(xseq, yseq)\n",
    "\n",
    "    trainer.train(MODEL_NAME)\n",
    "\n",
    "def evaluate(test):\n",
    "    X_test = [sent2features(s) for s in test]\n",
    "    y_test = [sent2labels(s) for s in test]\n",
    "\n",
    "    tagger = pycrfsuite.Tagger()\n",
    "    tagger.open(MODEL_NAME)\n",
    "\n",
    "    y_pred = [tagger.tag(x) for x in X_test]\n",
    "\n",
    "    true_counter, total_counter = 0.0, 0.0\n",
    "    for p, t in zip(y_pred, y_test):\n",
    "        assert len(p) == len(t)\n",
    "        total_counter += len(p)\n",
    "        true_counter += sum([str(i) == str(j) for i, j in zip(p, t)])\n",
    "    return true_counter / total_counter"
   ]
  },
  {
   "cell_type": "markdown",
   "metadata": {},
   "source": [
    "Английский"
   ]
  },
  {
   "cell_type": "code",
   "execution_count": 258,
   "metadata": {
    "collapsed": true
   },
   "outputs": [],
   "source": [
    "# your code here\n",
    "train(train_sents_e)"
   ]
  },
  {
   "cell_type": "code",
   "execution_count": 259,
   "metadata": {
    "collapsed": false
   },
   "outputs": [
    {
     "data": {
      "text/plain": [
       "0.9508411254406146"
      ]
     },
     "execution_count": 259,
     "metadata": {},
     "output_type": "execute_result"
    }
   ],
   "source": [
    "evaluate(test_sents_e)"
   ]
  },
  {
   "cell_type": "markdown",
   "metadata": {},
   "source": [
    "Для голландского"
   ]
  },
  {
   "cell_type": "code",
   "execution_count": 168,
   "metadata": {
    "collapsed": true
   },
   "outputs": [],
   "source": [
    "# your code here\n",
    "train(train_sents_n)"
   ]
  },
  {
   "cell_type": "code",
   "execution_count": 169,
   "metadata": {
    "collapsed": false
   },
   "outputs": [
    {
     "data": {
      "text/plain": [
       "0.9491601878631889"
      ]
     },
     "execution_count": 169,
     "metadata": {},
     "output_type": "execute_result"
    }
   ],
   "source": [
    "evaluate(test_sents_n)"
   ]
  },
  {
   "cell_type": "markdown",
   "metadata": {},
   "source": [
    "Солнечной Испании"
   ]
  },
  {
   "cell_type": "code",
   "execution_count": 173,
   "metadata": {
    "collapsed": true
   },
   "outputs": [],
   "source": [
    "train(train_sents_s)"
   ]
  },
  {
   "cell_type": "code",
   "execution_count": 174,
   "metadata": {
    "collapsed": false,
    "scrolled": true
   },
   "outputs": [
    {
     "data": {
      "text/plain": [
       "0.9293312926326928"
      ]
     },
     "execution_count": 174,
     "metadata": {},
     "output_type": "execute_result"
    }
   ],
   "source": [
    "evaluate(test_sents_s)"
   ]
  },
  {
   "cell_type": "markdown",
   "metadata": {},
   "source": [
    "Вообще без аугментаций качество довольно высокое. Попробуем улучшить, включив новые признаки"
   ]
  },
  {
   "cell_type": "code",
   "execution_count": 193,
   "metadata": {
    "collapsed": true
   },
   "outputs": [],
   "source": [
    "import re"
   ]
  },
  {
   "cell_type": "code",
   "execution_count": 268,
   "metadata": {
    "collapsed": true
   },
   "outputs": [],
   "source": [
    "def word2features(sent, i):\n",
    "    word = sent[i][0]\n",
    "    postag = sent[i][1]\n",
    "    features = [\n",
    "        'bias',\n",
    "        'word.lower=' + word.lower(),\n",
    "        'word.upper=' + word.upper(),\n",
    "        'word_has_digit=%s' % bool(re.search(r'\\d', word)),\n",
    "        'word[-3:]=' + word[-3:],\n",
    "        'word[-2:]=' + word[-2:],\n",
    "        'word[:3]=' + word[:3],\n",
    "        'word[:2]=' + word[:2],\n",
    "        'word.isupper=%s' % word.isupper(),\n",
    "        'word.istitle=%s' % word.istitle(),\n",
    "        'word.isdigit=%s' % word.isdigit(),\n",
    "        'postag=' + postag,\n",
    "        'postag[:2]=' + postag[:2],\n",
    "    ]\n",
    "    if i > 0:\n",
    "        word1 = sent[i-1][0]\n",
    "        postag1 = sent[i-1][1]\n",
    "        features.extend([\n",
    "            '-1:word.lower=' + word1.lower(),\n",
    "            '-1:word.istitle=%s' % word1.istitle(),\n",
    "            '-1:word.isupper=%s' % word1.isupper(),\n",
    "            '-1:postag=' + postag1,\n",
    "            '-1:postag[:2]=' + postag1[:2],\n",
    "            '-1:word_has_digit=%s' % bool(re.search(r'\\d', word1)),\n",
    "            '-1:word[-3:]=' + word1[-3:],\n",
    "            '-1:word[-2:]=' + word1[-2:],\n",
    "            '-1:word[:3]=' + word1[:3],\n",
    "            '-1:word[:2]=' + word1[:2],\n",
    "            '-1:word.isdigit=%s' % word1.isdigit(),\n",
    "        ])\n",
    "    else:\n",
    "        features.append('BOS')\n",
    "        \n",
    "    if i < len(sent)-1:\n",
    "        word1 = sent[i+1][0]\n",
    "        postag1 = sent[i+1][1]\n",
    "        features.extend([\n",
    "            '+1:word.lower=' + word1.lower(),\n",
    "            '+1:word.istitle=%s' % word1.istitle(),\n",
    "            '+1:word.isupper=%s' % word1.isupper(),\n",
    "            '+1:postag=' + postag1,\n",
    "            '+1:postag[:2]=' + postag1[:2],\n",
    "            '+1:word_has_digit=%s' % bool(re.search(r'\\d', word1)),\n",
    "            '+1:word[-3:]=' + word1[-3:],\n",
    "            '+1:word[-2:]=' + word1[-2:],\n",
    "            '+1:word[:3]=' + word1[:3],\n",
    "            '+1:word[:2]=' + word1[:2],\n",
    "            '+1:word.isdigit=%s' % word1.isdigit(),\n",
    "        ])\n",
    "    else:\n",
    "        features.append('EOS')\n",
    "                \n",
    "    return features\n",
    "\n",
    "\n",
    "def sent2features(sent):\n",
    "    return [word2features(sent, i) for i in range(len(sent))]\n",
    "\n",
    "def sent2labels(sent):\n",
    "    return [label for token, postag, label in sent]\n",
    "\n",
    "def train(train):\n",
    "    X_train = [sent2features(s) for s in train]\n",
    "    y_train = [sent2labels(s) for s in train]\n",
    "\n",
    "    trainer = pycrfsuite.Trainer(verbose=False, algorithm='lbfgs')\n",
    "\n",
    "    trainer.set_params({'c1': 0.3, 'c2': 5*1e-2, 'max_iterations': 50, 'linesearch': 'StrongBacktracking',\n",
    "                        'max_linesearch':10, 'feature.minfreq': 0.1, 'feature.possible_transitions': True})\n",
    "\n",
    "    for xseq, yseq in zip(X_train, y_train):\n",
    "        trainer.append(xseq, yseq)\n",
    "\n",
    "    trainer.train(MODEL_NAME)"
   ]
  },
  {
   "cell_type": "markdown",
   "metadata": {},
   "source": [
    "Английский"
   ]
  },
  {
   "cell_type": "code",
   "execution_count": 269,
   "metadata": {
    "collapsed": false
   },
   "outputs": [
    {
     "name": "stdout",
     "output_type": "stream",
     "text": [
      "Wall time: 1min 9s\n"
     ]
    }
   ],
   "source": [
    "%%time\n",
    "# your code here\n",
    "train(train_sents_e)"
   ]
  },
  {
   "cell_type": "code",
   "execution_count": 270,
   "metadata": {
    "collapsed": false
   },
   "outputs": [
    {
     "data": {
      "text/plain": [
       "0.9525719230850412"
      ]
     },
     "execution_count": 270,
     "metadata": {},
     "output_type": "execute_result"
    }
   ],
   "source": [
    "evaluate(test_sents_e)"
   ]
  },
  {
   "cell_type": "markdown",
   "metadata": {},
   "source": [
    "Для голландского"
   ]
  },
  {
   "cell_type": "code",
   "execution_count": 271,
   "metadata": {
    "collapsed": false
   },
   "outputs": [
    {
     "name": "stdout",
     "output_type": "stream",
     "text": [
      "Wall time: 38.3 s\n"
     ]
    }
   ],
   "source": [
    "%%time\n",
    "# your code here\n",
    "train(train_sents_n)"
   ]
  },
  {
   "cell_type": "code",
   "execution_count": 272,
   "metadata": {
    "collapsed": false
   },
   "outputs": [
    {
     "data": {
      "text/plain": [
       "0.9700161859527158"
      ]
     },
     "execution_count": 272,
     "metadata": {},
     "output_type": "execute_result"
    }
   ],
   "source": [
    "evaluate(test_sents_n)"
   ]
  },
  {
   "cell_type": "markdown",
   "metadata": {},
   "source": [
    "Солнечной Испании"
   ]
  },
  {
   "cell_type": "code",
   "execution_count": 250,
   "metadata": {
    "collapsed": false
   },
   "outputs": [
    {
     "name": "stdout",
     "output_type": "stream",
     "text": [
      "Wall time: 48.1 s\n"
     ]
    }
   ],
   "source": [
    "%%time\n",
    "train(train_sents_s)"
   ]
  },
  {
   "cell_type": "code",
   "execution_count": 251,
   "metadata": {
    "collapsed": false,
    "scrolled": true
   },
   "outputs": [
    {
     "data": {
      "text/plain": [
       "0.9616045953555165"
      ]
     },
     "execution_count": 251,
     "metadata": {},
     "output_type": "execute_result"
    }
   ],
   "source": [
    "evaluate(test_sents_s)"
   ]
  },
  {
   "cell_type": "markdown",
   "metadata": {},
   "source": [
    "Все модели улучшили качество (правда английский не так сильно, но в нем и меток классов больше). Наибольшую роль сыграли дополнительные признаки, но и более тонкая настройка параметров обучения - параметров $c1, c2, minfreq$ - позволили увеличить качество (вообще все эти параметры - регуляризаторы, поэтому тут скорее \"избежать переобучения\")."
   ]
  },
  {
   "cell_type": "markdown",
   "metadata": {},
   "source": [
    "#### 2.2. Stanford NER tagger\n",
    "\n",
    "Воспользуйтесь StanfordNERTagger для решения задачи NER на тех же тестовых данных, только для английского языка (обучать модель здесь не требуется). Приведите данные в соответствие нужному формату. Сравните результат с полученным выше. Настройка StanfordNERTagger производится аналогично настройке StanfordPOSTagger. В качестве готовой модели можно взять 'english.all.3class.distsim.crf.ser.gz'."
   ]
  },
  {
   "cell_type": "markdown",
   "metadata": {},
   "source": [
    "Так как с английским возникли существенные проблемы, то проверим на голландском и испанском. В качестве модели возьмем не предложенную, а english.conll.4class.distsim.crf.ser.gz. "
   ]
  },
  {
   "cell_type": "code",
   "execution_count": 273,
   "metadata": {
    "collapsed": true
   },
   "outputs": [],
   "source": [
    "# your code here\n",
    "from nltk.tag import StanfordNERTagger"
   ]
  },
  {
   "cell_type": "code",
   "execution_count": 274,
   "metadata": {
    "collapsed": false
   },
   "outputs": [],
   "source": [
    "st = StanfordNERTagger(r'C:\\development\\stanford-ner-2016-10-31\\classifiers\\english.conll.4class.distsim.crf.ser.gz', \n",
    "                       r'C:\\development\\stanford-ner-2016-10-31\\stanford-ner.jar', encoding='utf-8')"
   ]
  },
  {
   "cell_type": "code",
   "execution_count": 275,
   "metadata": {
    "collapsed": true
   },
   "outputs": [],
   "source": [
    "mapper = {'B-LOC':'LOCATION', 'B-PER':'PERSON', 'B-ORG':'ORGANIZATION', 'B-MISC':'MISC',\n",
    "          'I-LOC':'LOCATION', 'I-PER':'PERSON', 'I-ORG':'ORGANIZATION', 'I-MISC':'MISC', 'O':'O'}"
   ]
  },
  {
   "cell_type": "markdown",
   "metadata": {},
   "source": [
    "Испанский"
   ]
  },
  {
   "cell_type": "code",
   "execution_count": 276,
   "metadata": {
    "collapsed": true
   },
   "outputs": [],
   "source": [
    "test_sents = list(conll2002.iob_sents('esp.testa'))"
   ]
  },
  {
   "cell_type": "code",
   "execution_count": 277,
   "metadata": {
    "collapsed": false
   },
   "outputs": [],
   "source": [
    "forecast = st.tag_sents([[t[0] for t in sent] for sent in test_sents])"
   ]
  },
  {
   "cell_type": "code",
   "execution_count": 278,
   "metadata": {
    "collapsed": false
   },
   "outputs": [],
   "source": [
    "tags = [[(t[0], mapper[t[2]]) for t in sent] for sent in test_sents]"
   ]
  },
  {
   "cell_type": "code",
   "execution_count": 279,
   "metadata": {
    "collapsed": false
   },
   "outputs": [
    {
     "data": {
      "text/plain": [
       "0.9257600665117246"
      ]
     },
     "execution_count": 279,
     "metadata": {},
     "output_type": "execute_result"
    }
   ],
   "source": [
    "sum([x[0]==x[1] for x in zip(chain(*tags), chain(*forecast))]) / float(len(list(chain(*tags))))"
   ]
  },
  {
   "cell_type": "markdown",
   "metadata": {},
   "source": [
    "Голландский"
   ]
  },
  {
   "cell_type": "code",
   "execution_count": 280,
   "metadata": {
    "collapsed": true
   },
   "outputs": [],
   "source": [
    "test_sents = list(conll2002.iob_sents('ned.testa'))"
   ]
  },
  {
   "cell_type": "code",
   "execution_count": 281,
   "metadata": {
    "collapsed": false
   },
   "outputs": [],
   "source": [
    "forecast = st.tag_sents([[t[0] for t in sent] for sent in test_sents])"
   ]
  },
  {
   "cell_type": "code",
   "execution_count": 282,
   "metadata": {
    "collapsed": false
   },
   "outputs": [],
   "source": [
    "tags = [[(t[0], mapper[t[2]]) for t in sent] for sent in test_sents]"
   ]
  },
  {
   "cell_type": "code",
   "execution_count": 283,
   "metadata": {
    "collapsed": false
   },
   "outputs": [
    {
     "data": {
      "text/plain": [
       "0.9387587231671398"
      ]
     },
     "execution_count": 283,
     "metadata": {},
     "output_type": "execute_result"
    }
   ],
   "source": [
    "sum([x[0]==x[1] for x in zip(chain(*tags), chain(*forecast))]) / float(len(list(chain(*tags))))"
   ]
  },
  {
   "cell_type": "markdown",
   "metadata": {},
   "source": [
    "Учитывая, что модель построена на других языках, качество довольно приличное. К сожалению, тагсет conll2000 не имеет внятной документации, поэтому на нем проверить теггер не представляется возможным."
   ]
  },
  {
   "cell_type": "markdown",
   "metadata": {},
   "source": [
    "### Вместо заключения"
   ]
  },
  {
   "cell_type": "markdown",
   "metadata": {},
   "source": [
    "В данном задании нам пришлось решать задачи POS и NER теггинга. Были получены практические навыки работы с nltk. Но главное - навыки работы с ЧУДОВИЩНОЙ документацией. Отвратительная документация по большинству классов, по корпусам, непонятные глюки Python 2, который все никак не может дорасти до 3 вызывали легкое и ненавязчивое желание убивать. Это дало огромный опыт, который помог понять, что data science - тяжелый труд."
   ]
  }
 ],
 "metadata": {
  "anaconda-cloud": {},
  "kernelspec": {
   "display_name": "Python [conda env:py27]",
   "language": "python",
   "name": "conda-env-py27-py"
  },
  "language_info": {
   "codemirror_mode": {
    "name": "ipython",
    "version": 2
   },
   "file_extension": ".py",
   "mimetype": "text/x-python",
   "name": "python",
   "nbconvert_exporter": "python",
   "pygments_lexer": "ipython2",
   "version": "2.7.13"
  }
 },
 "nbformat": 4,
 "nbformat_minor": 0
}
