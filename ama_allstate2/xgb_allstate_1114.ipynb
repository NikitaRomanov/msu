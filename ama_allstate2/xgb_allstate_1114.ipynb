{
 "cells": [
  {
   "cell_type": "code",
   "execution_count": 1,
   "metadata": {
    "collapsed": true
   },
   "outputs": [],
   "source": [
    "import pandas as pd\n",
    "import numpy as np\n",
    "import xgboost as xgb\n",
    "\n",
    "from sklearn.metrics import mean_absolute_error"
   ]
  },
  {
   "cell_type": "code",
   "execution_count": 2,
   "metadata": {
    "collapsed": true
   },
   "outputs": [],
   "source": [
    "def evalerror(preds, dtrain):\n",
    "    labels = dtrain.get_label()\n",
    "    return 'mae', mean_absolute_error(np.exp(preds), np.exp(labels))"
   ]
  },
  {
   "cell_type": "code",
   "execution_count": 3,
   "metadata": {
    "collapsed": true
   },
   "outputs": [],
   "source": [
    "train = pd.read_csv(r'D:\\allstate\\train.csv.zip')\n",
    "test = pd.read_csv(r'D:\\allstate\\test.csv.zip')\n",
    "test['loss'] = np.nan\n",
    "joined = pd.concat([train, test])"
   ]
  },
  {
   "cell_type": "code",
   "execution_count": 4,
   "metadata": {
    "collapsed": true
   },
   "outputs": [],
   "source": [
    "    for column in list(train.select_dtypes(include=['object']).columns):\n",
    "        if train[column].nunique() != test[column].nunique():\n",
    "            set_train = set(train[column].unique())\n",
    "            set_test = set(test[column].unique())\n",
    "            remove_train = set_train - set_test\n",
    "            remove_test = set_test - set_train\n",
    "\n",
    "            remove = remove_train.union(remove_test)\n",
    "            def filter_cat(x):\n",
    "                if x in remove:\n",
    "                    return np.nan\n",
    "                return x\n",
    "\n",
    "            joined[column] = joined[column].apply(lambda x: filter_cat(x), 1)\n",
    "            \n",
    "        joined[column] = pd.factorize(joined[column].values, sort=True)[0]\n",
    "\n",
    "    train = joined[joined['loss'].notnull()]\n",
    "    test = joined[joined['loss'].isnull()]\n",
    "\n",
    "    shift = 200\n",
    "    y = np.log(train['loss'] + shift)\n",
    "    ids = test['id']\n",
    "    X = train.drop(['loss', 'id'], 1)\n",
    "    X_test = test.drop(['loss', 'id'], 1)"
   ]
  },
  {
   "cell_type": "code",
   "execution_count": 5,
   "metadata": {
    "collapsed": true
   },
   "outputs": [],
   "source": [
    "    RANDOM_STATE = 2016\n",
    "    params = {\n",
    "        'min_child_weight': 1,\n",
    "        'eta': 0.01,\n",
    "        'colsample_bytree': 0.5,\n",
    "        'max_depth': 12,\n",
    "        'subsample': 0.8,\n",
    "        'alpha': 1,\n",
    "        'gamma': 1,\n",
    "        'silent': 1,\n",
    "        'verbose_eval': True,\n",
    "        'seed': RANDOM_STATE\n",
    "    }\n",
    "\n",
    "    xgtrain = xgb.DMatrix(X, label=y)\n",
    "    xgtest = xgb.DMatrix(X_test)\n",
    "\n",
    "    model = xgb.train(params, xgtrain, int(2012 / 0.9), feval=evalerror)\n",
    "\n",
    "    prediction = np.exp(model.predict(xgtest)) - shift\n",
    "\n",
    "    submission = pd.DataFrame()\n",
    "    submission['loss'] = prediction\n",
    "    submission['id'] = ids\n",
    "    submission.to_csv('sub_v.csv', index=False)"
   ]
  },
  {
   "cell_type": "code",
   "execution_count": 6,
   "metadata": {
    "collapsed": true
   },
   "outputs": [],
   "source": [
    "prediction_train = np.exp(model.predict(xgtrain)) - shift\n",
    "submission_train = pd.DataFrame()\n",
    "submission_train['loss'] = prediction_train\n",
    "submission_train['id'] = train['id']\n",
    "submission_train.to_csv('sub_v_train.csv', index=False)"
   ]
  },
  {
   "cell_type": "code",
   "execution_count": null,
   "metadata": {
    "collapsed": true
   },
   "outputs": [],
   "source": []
  }
 ],
 "metadata": {
  "kernelspec": {
   "display_name": "Python [conda root]",
   "language": "python",
   "name": "conda-root-py"
  },
  "language_info": {
   "codemirror_mode": {
    "name": "ipython",
    "version": 3
   },
   "file_extension": ".py",
   "mimetype": "text/x-python",
   "name": "python",
   "nbconvert_exporter": "python",
   "pygments_lexer": "ipython3",
   "version": "3.5.2"
  }
 },
 "nbformat": 4,
 "nbformat_minor": 1
}
