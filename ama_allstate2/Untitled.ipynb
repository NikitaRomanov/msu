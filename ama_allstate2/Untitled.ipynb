{
 "cells": [
  {
   "cell_type": "code",
   "execution_count": 1,
   "metadata": {
    "collapsed": true
   },
   "outputs": [],
   "source": [
    "import numpy as np\n",
    "import pandas as pd\n",
    "%matplotlib inline"
   ]
  },
  {
   "cell_type": "code",
   "execution_count": 2,
   "metadata": {
    "collapsed": false,
    "scrolled": true
   },
   "outputs": [],
   "source": [
    "nn_pred = pd.read_csv('submission_keras_shift_perm.csv')\n",
    "nn_pred.rename(columns={'loss':'loss_nn'}, inplace=True)"
   ]
  },
  {
   "cell_type": "code",
   "execution_count": 3,
   "metadata": {
    "collapsed": false
   },
   "outputs": [],
   "source": [
    "nn_meta = pd.read_csv('preds_oob.csv')\n",
    "nn_meta.rename(columns={'loss':'loss_nn'}, inplace=True)"
   ]
  },
  {
   "cell_type": "code",
   "execution_count": 4,
   "metadata": {
    "collapsed": false,
    "scrolled": true
   },
   "outputs": [],
   "source": [
    "xgb_pred = pd.read_csv('submission_5fold-average-xgb_fairobj_1131.430646_2016-11-24-05-21.csv')\n",
    "xgb_pred.rename(columns={'loss':'loss_xgb'}, inplace=True)"
   ]
  },
  {
   "cell_type": "code",
   "execution_count": 5,
   "metadata": {
    "collapsed": true
   },
   "outputs": [],
   "source": [
    "xgb_meta = pd.read_csv('metafeature_10fold_raw.csv')\n",
    "xgb_meta.rename(columns={'loss':'loss_xgb'}, inplace=True)"
   ]
  },
  {
   "cell_type": "code",
   "execution_count": 6,
   "metadata": {
    "collapsed": false
   },
   "outputs": [],
   "source": [
    "xgb_pred2 = pd.read_csv('sub_v.csv')\n",
    "xgb_pred2.rename(columns={'loss':'loss_xgb2'}, inplace=True)"
   ]
  },
  {
   "cell_type": "code",
   "execution_count": 7,
   "metadata": {
    "collapsed": true
   },
   "outputs": [],
   "source": [
    "xgb_meta2 = pd.read_csv('sub_v_train.csv')\n",
    "xgb_pred2.rename(columns={'loss':'loss_xgb2'}, inplace=True)"
   ]
  },
  {
   "cell_type": "code",
   "execution_count": 8,
   "metadata": {
    "collapsed": true
   },
   "outputs": [],
   "source": [
    "gbm_pred = pd.read_csv('gbm_first.csv')\n",
    "gbm_pred.rename(columns={'loss':'loss_gbm'}, inplace=True)"
   ]
  },
  {
   "cell_type": "code",
   "execution_count": 9,
   "metadata": {
    "collapsed": true
   },
   "outputs": [],
   "source": [
    "gbm_meta = pd.read_csv('metafeature_10fold_gbm.csv')\n",
    "gbm_pred.rename(columns={'loss':'loss_gbm'}, inplace=True)"
   ]
  },
  {
   "cell_type": "code",
   "execution_count": 60,
   "metadata": {
    "collapsed": false
   },
   "outputs": [],
   "source": [
    "total_pred = nn_pred.merge(xgb_pred, on='id').merge(xgb_pred2, on='id').merge(gbm_pred, on='id')"
   ]
  },
  {
   "cell_type": "code",
   "execution_count": 61,
   "metadata": {
    "collapsed": true
   },
   "outputs": [],
   "source": [
    "total_meta = nn_meta.merge(xgb_meta, on='id').merge(xgb_meta2, on='id').merge(gbm_meta, on='id')"
   ]
  },
  {
   "cell_type": "code",
   "execution_count": 62,
   "metadata": {
    "collapsed": false
   },
   "outputs": [
    {
     "data": {
      "text/html": [
       "<div>\n",
       "<table border=\"1\" class=\"dataframe\">\n",
       "  <thead>\n",
       "    <tr style=\"text-align: right;\">\n",
       "      <th></th>\n",
       "      <th>id</th>\n",
       "      <th>loss_nn</th>\n",
       "      <th>loss_xgb</th>\n",
       "      <th>loss_xgb2</th>\n",
       "      <th>loss_gbm</th>\n",
       "    </tr>\n",
       "  </thead>\n",
       "  <tbody>\n",
       "    <tr>\n",
       "      <th>0</th>\n",
       "      <td>4</td>\n",
       "      <td>1702.271565</td>\n",
       "      <td>1609.509766</td>\n",
       "      <td>1516.827881</td>\n",
       "      <td>1567.447644</td>\n",
       "    </tr>\n",
       "    <tr>\n",
       "      <th>1</th>\n",
       "      <td>6</td>\n",
       "      <td>1795.501449</td>\n",
       "      <td>1935.612915</td>\n",
       "      <td>1994.615967</td>\n",
       "      <td>2006.551270</td>\n",
       "    </tr>\n",
       "    <tr>\n",
       "      <th>2</th>\n",
       "      <td>9</td>\n",
       "      <td>9010.045728</td>\n",
       "      <td>9515.419922</td>\n",
       "      <td>8897.466797</td>\n",
       "      <td>9222.415633</td>\n",
       "    </tr>\n",
       "    <tr>\n",
       "      <th>3</th>\n",
       "      <td>12</td>\n",
       "      <td>7460.658379</td>\n",
       "      <td>6272.907227</td>\n",
       "      <td>5890.556152</td>\n",
       "      <td>6481.133755</td>\n",
       "    </tr>\n",
       "    <tr>\n",
       "      <th>4</th>\n",
       "      <td>15</td>\n",
       "      <td>757.285362</td>\n",
       "      <td>780.405090</td>\n",
       "      <td>796.562317</td>\n",
       "      <td>799.944744</td>\n",
       "    </tr>\n",
       "  </tbody>\n",
       "</table>\n",
       "</div>"
      ],
      "text/plain": [
       "   id      loss_nn     loss_xgb    loss_xgb2     loss_gbm\n",
       "0   4  1702.271565  1609.509766  1516.827881  1567.447644\n",
       "1   6  1795.501449  1935.612915  1994.615967  2006.551270\n",
       "2   9  9010.045728  9515.419922  8897.466797  9222.415633\n",
       "3  12  7460.658379  6272.907227  5890.556152  6481.133755\n",
       "4  15   757.285362   780.405090   796.562317   799.944744"
      ]
     },
     "execution_count": 62,
     "metadata": {},
     "output_type": "execute_result"
    }
   ],
   "source": [
    "total_pred.head()"
   ]
  },
  {
   "cell_type": "code",
   "execution_count": 63,
   "metadata": {
    "collapsed": false,
    "scrolled": true
   },
   "outputs": [
    {
     "data": {
      "text/html": [
       "<div>\n",
       "<table border=\"1\" class=\"dataframe\">\n",
       "  <thead>\n",
       "    <tr style=\"text-align: right;\">\n",
       "      <th></th>\n",
       "      <th>id</th>\n",
       "      <th>loss_nn</th>\n",
       "      <th>meta_xgb</th>\n",
       "      <th>loss_x</th>\n",
       "      <th>loss_y</th>\n",
       "    </tr>\n",
       "  </thead>\n",
       "  <tbody>\n",
       "    <tr>\n",
       "      <th>0</th>\n",
       "      <td>106313</td>\n",
       "      <td>1070.906348</td>\n",
       "      <td>1095.242065</td>\n",
       "      <td>1182.481201</td>\n",
       "      <td>1141.351672</td>\n",
       "    </tr>\n",
       "    <tr>\n",
       "      <th>1</th>\n",
       "      <td>136287</td>\n",
       "      <td>1658.718567</td>\n",
       "      <td>1733.081543</td>\n",
       "      <td>1907.467285</td>\n",
       "      <td>1941.156353</td>\n",
       "    </tr>\n",
       "    <tr>\n",
       "      <th>2</th>\n",
       "      <td>11041</td>\n",
       "      <td>1826.117810</td>\n",
       "      <td>1922.265137</td>\n",
       "      <td>1697.623291</td>\n",
       "      <td>1843.919503</td>\n",
       "    </tr>\n",
       "    <tr>\n",
       "      <th>3</th>\n",
       "      <td>313015</td>\n",
       "      <td>3371.868506</td>\n",
       "      <td>3158.239258</td>\n",
       "      <td>3350.754150</td>\n",
       "      <td>3198.897750</td>\n",
       "    </tr>\n",
       "    <tr>\n",
       "      <th>4</th>\n",
       "      <td>188200</td>\n",
       "      <td>10972.408203</td>\n",
       "      <td>8422.389648</td>\n",
       "      <td>9041.215820</td>\n",
       "      <td>8734.985661</td>\n",
       "    </tr>\n",
       "  </tbody>\n",
       "</table>\n",
       "</div>"
      ],
      "text/plain": [
       "       id       loss_nn     meta_xgb       loss_x       loss_y\n",
       "0  106313   1070.906348  1095.242065  1182.481201  1141.351672\n",
       "1  136287   1658.718567  1733.081543  1907.467285  1941.156353\n",
       "2   11041   1826.117810  1922.265137  1697.623291  1843.919503\n",
       "3  313015   3371.868506  3158.239258  3350.754150  3198.897750\n",
       "4  188200  10972.408203  8422.389648  9041.215820  8734.985661"
      ]
     },
     "execution_count": 63,
     "metadata": {},
     "output_type": "execute_result"
    }
   ],
   "source": [
    "total_meta.head()"
   ]
  },
  {
   "cell_type": "code",
   "execution_count": 64,
   "metadata": {
    "collapsed": false
   },
   "outputs": [
    {
     "data": {
      "text/html": [
       "<div>\n",
       "<table border=\"1\" class=\"dataframe\">\n",
       "  <thead>\n",
       "    <tr style=\"text-align: right;\">\n",
       "      <th></th>\n",
       "      <th>id</th>\n",
       "      <th>loss_nn</th>\n",
       "      <th>meta_xgb</th>\n",
       "      <th>loss_x</th>\n",
       "      <th>loss_y</th>\n",
       "    </tr>\n",
       "  </thead>\n",
       "  <tbody>\n",
       "    <tr>\n",
       "      <th>180536</th>\n",
       "      <td>1</td>\n",
       "      <td>1843.111414</td>\n",
       "      <td>2041.131104</td>\n",
       "      <td>2016.575439</td>\n",
       "      <td>2006.982265</td>\n",
       "    </tr>\n",
       "    <tr>\n",
       "      <th>114129</th>\n",
       "      <td>2</td>\n",
       "      <td>1644.979285</td>\n",
       "      <td>1758.783813</td>\n",
       "      <td>1744.768799</td>\n",
       "      <td>1772.275405</td>\n",
       "    </tr>\n",
       "    <tr>\n",
       "      <th>64050</th>\n",
       "      <td>5</td>\n",
       "      <td>3728.797046</td>\n",
       "      <td>4228.701172</td>\n",
       "      <td>4161.208984</td>\n",
       "      <td>4269.090052</td>\n",
       "    </tr>\n",
       "    <tr>\n",
       "      <th>166274</th>\n",
       "      <td>10</td>\n",
       "      <td>1001.145459</td>\n",
       "      <td>1095.230957</td>\n",
       "      <td>1027.500488</td>\n",
       "      <td>1064.597396</td>\n",
       "    </tr>\n",
       "    <tr>\n",
       "      <th>179990</th>\n",
       "      <td>11</td>\n",
       "      <td>3243.387695</td>\n",
       "      <td>3223.909668</td>\n",
       "      <td>3009.711914</td>\n",
       "      <td>3361.836242</td>\n",
       "    </tr>\n",
       "  </tbody>\n",
       "</table>\n",
       "</div>"
      ],
      "text/plain": [
       "        id      loss_nn     meta_xgb       loss_x       loss_y\n",
       "180536   1  1843.111414  2041.131104  2016.575439  2006.982265\n",
       "114129   2  1644.979285  1758.783813  1744.768799  1772.275405\n",
       "64050    5  3728.797046  4228.701172  4161.208984  4269.090052\n",
       "166274  10  1001.145459  1095.230957  1027.500488  1064.597396\n",
       "179990  11  3243.387695  3223.909668  3009.711914  3361.836242"
      ]
     },
     "execution_count": 64,
     "metadata": {},
     "output_type": "execute_result"
    }
   ],
   "source": [
    "total_meta.sort_values(by='id', inplace=True)\n",
    "total_meta.head()"
   ]
  },
  {
   "cell_type": "code",
   "execution_count": 65,
   "metadata": {
    "collapsed": false
   },
   "outputs": [],
   "source": [
    "total_meta = total_meta.drop(['loss_y'], axis=1)\n",
    "total_pred = total_pred.drop(['loss_gbm'], axis=1)"
   ]
  },
  {
   "cell_type": "code",
   "execution_count": null,
   "metadata": {
    "collapsed": false
   },
   "outputs": [],
   "source": [
    "#total_meta = total_meta.iloc[:,:3]\n",
    "#total_pred = total_pred.iloc[:,:3]"
   ]
  },
  {
   "cell_type": "code",
   "execution_count": null,
   "metadata": {
    "collapsed": false
   },
   "outputs": [],
   "source": [
    "#average = pd.DataFrame({'id':total_pred['id'], 'loss':total_pred.iloc[:,1:].mean(axis=1)})\n",
    "#average.to_csv('avr_4_models.csv', index=False)"
   ]
  },
  {
   "cell_type": "code",
   "execution_count": null,
   "metadata": {
    "collapsed": false
   },
   "outputs": [],
   "source": [
    "#pd.DataFrame({'id':d['id'], 'loss':d.iloc[:,1:].median(axis=1)}).to_csv('median.csv', index=False)"
   ]
  },
  {
   "cell_type": "code",
   "execution_count": null,
   "metadata": {
    "collapsed": false
   },
   "outputs": [],
   "source": [
    "#pd.DataFrame({'id':d['id'], 'loss':0.4*d.iloc[:,1]+0.35*d.iloc[:,2]+0.25*d.iloc[:,3]}).to_csv('weight.csv', index=False)"
   ]
  },
  {
   "cell_type": "code",
   "execution_count": null,
   "metadata": {
    "collapsed": true
   },
   "outputs": [],
   "source": [
    "#pd.DataFrame({'id':d['id'], 'loss':0.35*d.iloc[:,1]+0.4*d.iloc[:,2]+0.25*d.iloc[:,3]}).to_csv('weight3.csv', index=False)"
   ]
  },
  {
   "cell_type": "code",
   "execution_count": 16,
   "metadata": {
    "collapsed": true
   },
   "outputs": [],
   "source": [
    "import os\n",
    "from pylightgbm.models import GBMRegressor\n",
    "os.environ['LIGHTGBM_EXEC'] = r'D:\\LightGBM\\LightGBM\\windows\\x64\\Release\\lightgbm.exe'"
   ]
  },
  {
   "cell_type": "code",
   "execution_count": 17,
   "metadata": {
    "collapsed": true
   },
   "outputs": [],
   "source": [
    "from sklearn.metrics import mean_absolute_error\n",
    "from sklearn.model_selection import KFold, train_test_split"
   ]
  },
  {
   "cell_type": "code",
   "execution_count": 18,
   "metadata": {
    "collapsed": true
   },
   "outputs": [],
   "source": [
    "shift = 190"
   ]
  },
  {
   "cell_type": "code",
   "execution_count": 66,
   "metadata": {
    "collapsed": false
   },
   "outputs": [
    {
     "data": {
      "text/html": [
       "<div>\n",
       "<table border=\"1\" class=\"dataframe\">\n",
       "  <thead>\n",
       "    <tr style=\"text-align: right;\">\n",
       "      <th></th>\n",
       "      <th>id</th>\n",
       "      <th>cat1</th>\n",
       "      <th>cat2</th>\n",
       "      <th>cat3</th>\n",
       "      <th>cat4</th>\n",
       "      <th>cat5</th>\n",
       "      <th>cat6</th>\n",
       "      <th>cat7</th>\n",
       "      <th>cat8</th>\n",
       "      <th>cat9</th>\n",
       "      <th>...</th>\n",
       "      <th>cat14_cat38</th>\n",
       "      <th>cat14_cat24</th>\n",
       "      <th>cat14_cat82</th>\n",
       "      <th>cat14_cat25</th>\n",
       "      <th>cat38_cat24</th>\n",
       "      <th>cat38_cat82</th>\n",
       "      <th>cat38_cat25</th>\n",
       "      <th>cat24_cat82</th>\n",
       "      <th>cat24_cat25</th>\n",
       "      <th>cat82_cat25</th>\n",
       "    </tr>\n",
       "  </thead>\n",
       "  <tbody>\n",
       "    <tr>\n",
       "      <th>188318</th>\n",
       "      <td>4</td>\n",
       "      <td>1</td>\n",
       "      <td>2</td>\n",
       "      <td>1</td>\n",
       "      <td>1</td>\n",
       "      <td>1</td>\n",
       "      <td>1</td>\n",
       "      <td>1</td>\n",
       "      <td>1</td>\n",
       "      <td>2</td>\n",
       "      <td>...</td>\n",
       "      <td>27</td>\n",
       "      <td>27</td>\n",
       "      <td>28</td>\n",
       "      <td>27</td>\n",
       "      <td>27</td>\n",
       "      <td>28</td>\n",
       "      <td>27</td>\n",
       "      <td>28</td>\n",
       "      <td>27</td>\n",
       "      <td>53</td>\n",
       "    </tr>\n",
       "  </tbody>\n",
       "</table>\n",
       "<p>1 rows × 727 columns</p>\n",
       "</div>"
      ],
      "text/plain": [
       "        id  cat1  cat2  cat3  cat4  cat5  cat6  cat7  cat8  cat9     ...       \\\n",
       "188318   4     1     2     1     1     1     1     1     1     2     ...        \n",
       "\n",
       "        cat14_cat38  cat14_cat24  cat14_cat82  cat14_cat25  cat38_cat24  \\\n",
       "188318           27           27           28           27           27   \n",
       "\n",
       "        cat38_cat82  cat38_cat25  cat24_cat82  cat24_cat25  cat82_cat25  \n",
       "188318           28           27           28           27           53  \n",
       "\n",
       "[1 rows x 727 columns]"
      ]
     },
     "execution_count": 66,
     "metadata": {},
     "output_type": "execute_result"
    }
   ],
   "source": [
    "train_test = pd.read_csv(r'D:/allstate/train_test.csv').drop('Unnamed: 0', axis=1)\n",
    "directory = r\"D:/allstate/\"\n",
    "ids = pd.read_csv(directory + 'test.csv.zip')['id']\n",
    "ntrain = 188318\n",
    "train_test[train_test['id']==4]"
   ]
  },
  {
   "cell_type": "code",
   "execution_count": 67,
   "metadata": {
    "collapsed": true
   },
   "outputs": [],
   "source": [
    "train = train_test[:ntrain]\n",
    "test = train_test[ntrain:]"
   ]
  },
  {
   "cell_type": "code",
   "execution_count": 68,
   "metadata": {
    "collapsed": true
   },
   "outputs": [],
   "source": [
    "from sklearn.cluster import MiniBatchKMeans"
   ]
  },
  {
   "cell_type": "code",
   "execution_count": 69,
   "metadata": {
    "collapsed": false
   },
   "outputs": [
    {
     "data": {
      "text/plain": [
       "MiniBatchKMeans(batch_size=5000, compute_labels=True, init='k-means++',\n",
       "        init_size=None, max_iter=300, max_no_improvement=20, n_clusters=5,\n",
       "        n_init=3, random_state=None, reassignment_ratio=0.01, tol=0.0,\n",
       "        verbose=0)"
      ]
     },
     "execution_count": 69,
     "metadata": {},
     "output_type": "execute_result"
    }
   ],
   "source": [
    "clust = MiniBatchKMeans(max_iter=300, n_clusters=5, batch_size=5000, max_no_improvement=20)\n",
    "clust.fit(train.drop(['id','loss'], axis=1))"
   ]
  },
  {
   "cell_type": "code",
   "execution_count": 70,
   "metadata": {
    "collapsed": false
   },
   "outputs": [
    {
     "name": "stderr",
     "output_type": "stream",
     "text": [
      "C:\\Users\\ASUS\\Anaconda3\\lib\\site-packages\\ipykernel\\__main__.py:1: SettingWithCopyWarning: \n",
      "A value is trying to be set on a copy of a slice from a DataFrame.\n",
      "Try using .loc[row_indexer,col_indexer] = value instead\n",
      "\n",
      "See the caveats in the documentation: http://pandas.pydata.org/pandas-docs/stable/indexing.html#indexing-view-versus-copy\n",
      "  if __name__ == '__main__':\n",
      "C:\\Users\\ASUS\\Anaconda3\\lib\\site-packages\\ipykernel\\__main__.py:2: SettingWithCopyWarning: \n",
      "A value is trying to be set on a copy of a slice from a DataFrame.\n",
      "Try using .loc[row_indexer,col_indexer] = value instead\n",
      "\n",
      "See the caveats in the documentation: http://pandas.pydata.org/pandas-docs/stable/indexing.html#indexing-view-versus-copy\n",
      "  from ipykernel import kernelapp as app\n"
     ]
    }
   ],
   "source": [
    "train['clust'] = clust.predict(train.drop(['id','loss'], axis=1))\n",
    "test['clust'] = clust.predict(test.drop(['id','loss'], axis=1))"
   ]
  },
  {
   "cell_type": "code",
   "execution_count": 71,
   "metadata": {
    "collapsed": false
   },
   "outputs": [],
   "source": [
    "train = train.merge(total_meta, on='id')"
   ]
  },
  {
   "cell_type": "code",
   "execution_count": 72,
   "metadata": {
    "collapsed": false,
    "scrolled": true
   },
   "outputs": [],
   "source": [
    "#train.iloc[:,-4:] = np.log(train.iloc[:,-4:] + shift)"
   ]
  },
  {
   "cell_type": "code",
   "execution_count": 73,
   "metadata": {
    "collapsed": true
   },
   "outputs": [],
   "source": [
    "test = test.merge(total_pred, on='id')"
   ]
  },
  {
   "cell_type": "code",
   "execution_count": 74,
   "metadata": {
    "collapsed": true
   },
   "outputs": [],
   "source": [
    "#test.iloc[:,-4:] = np.log(test.iloc[:,-4:] + shift)"
   ]
  },
  {
   "cell_type": "code",
   "execution_count": 75,
   "metadata": {
    "collapsed": false
   },
   "outputs": [
    {
     "data": {
      "text/plain": [
       "((188318, 731), (125546, 731))"
      ]
     },
     "execution_count": 75,
     "metadata": {},
     "output_type": "execute_result"
    }
   ],
   "source": [
    "train.shape, test.shape"
   ]
  },
  {
   "cell_type": "code",
   "execution_count": 76,
   "metadata": {
    "collapsed": false
   },
   "outputs": [],
   "source": [
    "train_loss = train.loss\n",
    "train_x = train.drop(['id','loss'], axis=1)\n",
    "test_x = test.drop(['id','loss'], axis=1)"
   ]
  },
  {
   "cell_type": "code",
   "execution_count": 78,
   "metadata": {
    "collapsed": false
   },
   "outputs": [],
   "source": [
    "train_x.iloc[:,-3:] = np.log(train_x.iloc[:,-3:] + shift)\n",
    "test_x.iloc[:,-3:] = np.log(test_x.iloc[:,-3:] + shift)"
   ]
  },
  {
   "cell_type": "code",
   "execution_count": 79,
   "metadata": {
    "collapsed": true
   },
   "outputs": [],
   "source": [
    "train_y = np.log(train_loss + shift)"
   ]
  },
  {
   "cell_type": "code",
   "execution_count": 80,
   "metadata": {
    "collapsed": true
   },
   "outputs": [],
   "source": [
    "X_train, X_val, y_train, y_val = train_test_split(train_x, train_y, test_size=0.1, random_state=0)"
   ]
  },
  {
   "cell_type": "code",
   "execution_count": 38,
   "metadata": {
    "collapsed": true
   },
   "outputs": [],
   "source": [
    "#from sklearn.decomposition import TruncatedSVD"
   ]
  },
  {
   "cell_type": "code",
   "execution_count": 39,
   "metadata": {
    "collapsed": false
   },
   "outputs": [],
   "source": [
    "#svd = TruncatedSVD(n_iter=10, n_components=75)\n",
    "#svd.fit(X_train)"
   ]
  },
  {
   "cell_type": "code",
   "execution_count": 40,
   "metadata": {
    "collapsed": false
   },
   "outputs": [],
   "source": [
    "#svd.explained_variance_ratio_.sum()"
   ]
  },
  {
   "cell_type": "code",
   "execution_count": 41,
   "metadata": {
    "collapsed": false
   },
   "outputs": [],
   "source": [
    "#X_train_svd = svd.transform(X_train)\n",
    "#X_val_svd = svd.transform(X_val)"
   ]
  },
  {
   "cell_type": "code",
   "execution_count": 81,
   "metadata": {
    "collapsed": false
   },
   "outputs": [],
   "source": [
    "clf = GBMRegressor(application='regression',\n",
    "                   num_iterations=5000,\n",
    "                   learning_rate=0.01,\n",
    "                   num_leaves=5,\n",
    "                   max_bin=900,\n",
    "                   tree_learner='serial',\n",
    "                   num_threads=8,\n",
    "                   min_data_in_leaf=10,\n",
    "                   metric='l1',\n",
    "                   feature_fraction=0.6,\n",
    "                   bagging_fraction=1.0,\n",
    "                   early_stopping_round=50,\n",
    "                   max_depth=-1,\n",
    "                   boosting_type='gbdt',\n",
    "                   verbose=False)\n",
    "clf.fit(X_train, y_train, test_data=[(X_val, y_val)])"
   ]
  },
  {
   "cell_type": "code",
   "execution_count": 82,
   "metadata": {
    "collapsed": false
   },
   "outputs": [
    {
     "data": {
      "text/plain": [
       "5000"
      ]
     },
     "execution_count": 82,
     "metadata": {},
     "output_type": "execute_result"
    }
   ],
   "source": [
    "clf.best_round"
   ]
  },
  {
   "cell_type": "code",
   "execution_count": 83,
   "metadata": {
    "collapsed": false
   },
   "outputs": [
    {
     "data": {
      "text/plain": [
       "787.77050913413314"
      ]
     },
     "execution_count": 83,
     "metadata": {},
     "output_type": "execute_result"
    }
   ],
   "source": [
    "predicted = clf.predict(X_val)\n",
    "mean_absolute_error(np.exp(y_val), np.exp(predicted))"
   ]
  },
  {
   "cell_type": "code",
   "execution_count": null,
   "metadata": {
    "collapsed": true
   },
   "outputs": [],
   "source": [
    "1131.2147677230632"
   ]
  },
  {
   "cell_type": "code",
   "execution_count": null,
   "metadata": {
    "collapsed": true
   },
   "outputs": [],
   "source": [
    "1119"
   ]
  },
  {
   "cell_type": "markdown",
   "metadata": {},
   "source": [
    "1132"
   ]
  },
  {
   "cell_type": "markdown",
   "metadata": {},
   "source": [
    "1107"
   ]
  },
  {
   "cell_type": "markdown",
   "metadata": {},
   "source": [
    "1113.3251491"
   ]
  },
  {
   "cell_type": "markdown",
   "metadata": {},
   "source": [
    "1124.630568"
   ]
  },
  {
   "cell_type": "markdown",
   "metadata": {},
   "source": [
    "1127.3536544333508"
   ]
  },
  {
   "cell_type": "code",
   "execution_count": null,
   "metadata": {
    "collapsed": false
   },
   "outputs": [],
   "source": [
    "#test_x_svd = svd.transform(test_x)\n",
    "out = clf.predict(test_x)\n",
    "out = np.exp(out)-shift"
   ]
  },
  {
   "cell_type": "code",
   "execution_count": null,
   "metadata": {
    "collapsed": false
   },
   "outputs": [],
   "source": [
    "stacking_pred = pd.DataFrame({'id':ids, 'loss':out})\n",
    "stacking_pred.to_csv('stacking_pred.csv', index=False)"
   ]
  },
  {
   "cell_type": "code",
   "execution_count": null,
   "metadata": {
    "collapsed": true
   },
   "outputs": [],
   "source": [
    "n_folds = 10\n",
    "cv_sum = 0\n",
    "early_stopping = 50\n",
    "mpred = np.zeros(test_x.shape[0])"
   ]
  },
  {
   "cell_type": "code",
   "execution_count": null,
   "metadata": {
    "collapsed": false
   },
   "outputs": [],
   "source": [
    "metafeature = pd.DataFrame()\n",
    "kf = KFold(n_folds)\n",
    "for i, (train_index, valid_index) in enumerate(kf.split(train_x)):\n",
    "    print('\\n Fold %d' % (i+1))\n",
    "    X_train, X_val = train_x.iloc[train_index], train_x.iloc[valid_index]\n",
    "    y_train, y_val = train_y.iloc[train_index], train_y.iloc[valid_index]\n",
    "    \n",
    "    clf = GBMRegressor(application='regression',\n",
    "                       num_iterations=5000,\n",
    "                       learning_rate=0.005,\n",
    "                       num_leaves=6,\n",
    "                       max_bin=900,\n",
    "                       tree_learner='serial',\n",
    "                       num_threads=8,\n",
    "                       min_data_in_leaf=10,\n",
    "                       metric='l1',\n",
    "                       feature_fraction=0.6,\n",
    "                       bagging_fraction=1.0,\n",
    "                       early_stopping_round=50,\n",
    "                       max_depth=-1,\n",
    "                       boosting_type='gbdt',\n",
    "                       verbose=False)\n",
    "    clf.fit(X_train, y_train, test_data=[(X_val, y_val)])\n",
    "    \n",
    "    scores_val = clf.predict(X_val)\n",
    "    cv_score = mean_absolute_error(np.exp(y_val), np.exp(scores_val))\n",
    "    print('eval-MAE: %.6f' % cv_score)\n",
    "    cv_sum += cv_score\n",
    "    y_pred = np.exp(clf.predict(test_x)) - shift\n",
    "    #stacking    \n",
    "    metafeature2 = pd.DataFrame()\n",
    "    y_stack = np.exp(scores_val) - shift\n",
    "    metafeature2['id'] = train.iloc[valid_index]['id']\n",
    "    metafeature2['loss'] = y_stack\n",
    "    metafeature = pd.concat([metafeature, metafeature2])\n",
    "    mpred += y_pred   \n",
    "mpred /= n_folds"
   ]
  },
  {
   "cell_type": "code",
   "execution_count": null,
   "metadata": {
    "collapsed": false
   },
   "outputs": [],
   "source": [
    "print('eval-MAE: %.6f' % (cv_sum/n_folds))"
   ]
  },
  {
   "cell_type": "code",
   "execution_count": null,
   "metadata": {
    "collapsed": false
   },
   "outputs": [],
   "source": [
    "print(\"Writing results\")\n",
    "result = pd.DataFrame(mpred, columns=['loss'])\n",
    "result[\"id\"] = ids\n",
    "result = result.set_index(\"id\")\n",
    "result.to_csv('gbm_stack.csv', index=True, index_label='id')"
   ]
  },
  {
   "cell_type": "code",
   "execution_count": null,
   "metadata": {
    "collapsed": true
   },
   "outputs": [],
   "source": []
  },
  {
   "cell_type": "code",
   "execution_count": null,
   "metadata": {
    "collapsed": true
   },
   "outputs": [],
   "source": [
    "import gc"
   ]
  },
  {
   "cell_type": "code",
   "execution_count": null,
   "metadata": {
    "collapsed": false
   },
   "outputs": [],
   "source": [
    "gc.collect()"
   ]
  },
  {
   "cell_type": "code",
   "execution_count": null,
   "metadata": {
    "collapsed": true
   },
   "outputs": [],
   "source": [
    "from sklearn.ensemble import RandomForestRegressor"
   ]
  },
  {
   "cell_type": "code",
   "execution_count": null,
   "metadata": {
    "collapsed": false
   },
   "outputs": [],
   "source": [
    "forest = RandomForestRegressor(n_jobs=8, n_estimators=75)\n",
    "forest.fit(X_train, y_train)"
   ]
  },
  {
   "cell_type": "code",
   "execution_count": null,
   "metadata": {
    "collapsed": false
   },
   "outputs": [],
   "source": [
    "fpred = forest.predict(X_val)\n",
    "mean_absolute_error(np.exp(y_val), np.exp(fpred))"
   ]
  },
  {
   "cell_type": "code",
   "execution_count": null,
   "metadata": {
    "collapsed": false
   },
   "outputs": [],
   "source": [
    "fpred, predicted"
   ]
  },
  {
   "cell_type": "code",
   "execution_count": null,
   "metadata": {
    "collapsed": false
   },
   "outputs": [],
   "source": [
    "y_val.values"
   ]
  },
  {
   "cell_type": "code",
   "execution_count": null,
   "metadata": {
    "collapsed": true
   },
   "outputs": [],
   "source": []
  }
 ],
 "metadata": {
  "anaconda-cloud": {},
  "kernelspec": {
   "display_name": "Python [conda root]",
   "language": "python",
   "name": "conda-root-py"
  },
  "language_info": {
   "codemirror_mode": {
    "name": "ipython",
    "version": 3
   },
   "file_extension": ".py",
   "mimetype": "text/x-python",
   "name": "python",
   "nbconvert_exporter": "python",
   "pygments_lexer": "ipython3",
   "version": "3.5.2"
  }
 },
 "nbformat": 4,
 "nbformat_minor": 1
}
