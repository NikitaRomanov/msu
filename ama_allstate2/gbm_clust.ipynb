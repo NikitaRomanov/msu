{
 "cells": [
  {
   "cell_type": "code",
   "execution_count": 1,
   "metadata": {
    "collapsed": true
   },
   "outputs": [],
   "source": [
    "import os\n",
    "import numpy as np\n",
    "import pandas as pd\n",
    "from pylightgbm.models import GBMRegressor\n",
    "from sklearn.metrics import mean_absolute_error\n",
    "from sklearn.model_selection import KFold, train_test_split"
   ]
  },
  {
   "cell_type": "code",
   "execution_count": 2,
   "metadata": {
    "collapsed": true
   },
   "outputs": [],
   "source": [
    "shift = 190"
   ]
  },
  {
   "cell_type": "code",
   "execution_count": 3,
   "metadata": {
    "collapsed": false
   },
   "outputs": [],
   "source": [
    "os.environ['LIGHTGBM_EXEC'] = r'D:\\LightGBM\\LightGBM\\windows\\x64\\Release\\lightgbm.exe'"
   ]
  },
  {
   "cell_type": "code",
   "execution_count": 4,
   "metadata": {
    "collapsed": true
   },
   "outputs": [],
   "source": [
    "train_test = pd.read_csv(r'D:/allstate/train_test.csv').drop('Unnamed: 0', axis=1)"
   ]
  },
  {
   "cell_type": "code",
   "execution_count": 5,
   "metadata": {
    "collapsed": true
   },
   "outputs": [],
   "source": [
    "directory = r\"D:/allstate/\"\n",
    "ids = pd.read_csv(directory + 'test.csv.zip')['id']\n",
    "train_loss = pd.read_csv(directory + 'train.csv.zip')['loss']"
   ]
  },
  {
   "cell_type": "code",
   "execution_count": 7,
   "metadata": {
    "collapsed": false
   },
   "outputs": [
    {
     "data": {
      "text/plain": [
       "(188318,)"
      ]
     },
     "execution_count": 7,
     "metadata": {},
     "output_type": "execute_result"
    }
   ],
   "source": [
    "train_loss.shape"
   ]
  },
  {
   "cell_type": "code",
   "execution_count": 8,
   "metadata": {
    "collapsed": true
   },
   "outputs": [],
   "source": [
    "ntrain = 188318"
   ]
  },
  {
   "cell_type": "code",
   "execution_count": 9,
   "metadata": {
    "collapsed": false
   },
   "outputs": [],
   "source": [
    "train = train_test[:ntrain]\n",
    "train_x = train.drop(['id','loss'], axis=1)\n",
    "test_x = train_test[ntrain:].drop(['id','loss'], axis=1)"
   ]
  },
  {
   "cell_type": "code",
   "execution_count": 10,
   "metadata": {
    "collapsed": true
   },
   "outputs": [],
   "source": [
    "train_y = np.log(train_loss + shift)"
   ]
  },
  {
   "cell_type": "code",
   "execution_count": 74,
   "metadata": {
    "collapsed": true
   },
   "outputs": [],
   "source": [
    "X_train, X_val, y_train, y_val = train_test_split(train_x, train_y, test_size=0.1, random_state=2016)"
   ]
  },
  {
   "cell_type": "code",
   "execution_count": 75,
   "metadata": {
    "collapsed": false
   },
   "outputs": [
    {
     "data": {
      "text/plain": [
       "(169486, 725)"
      ]
     },
     "execution_count": 75,
     "metadata": {},
     "output_type": "execute_result"
    }
   ],
   "source": [
    "X_train.shape"
   ]
  },
  {
   "cell_type": "code",
   "execution_count": 76,
   "metadata": {
    "collapsed": false,
    "scrolled": true
   },
   "outputs": [],
   "source": [
    "clf = GBMRegressor(application='regression',\n",
    "                   num_iterations=1700,\n",
    "                   learning_rate=0.03,\n",
    "                   num_leaves=60,\n",
    "                   tree_learner='serial',\n",
    "                   num_threads=8,\n",
    "                   min_data_in_leaf=220,\n",
    "                   metric='l1',\n",
    "                   feature_fraction=0.32,\n",
    "                   bagging_fraction=1.0,\n",
    "                   early_stopping_round=50,\n",
    "                   max_depth=-1,\n",
    "                   boosting_type='gbdt',\n",
    "                   verbose=False)\n",
    "clf.fit(X_train, y_train, test_data=[(X_val, y_val)])"
   ]
  },
  {
   "cell_type": "code",
   "execution_count": 77,
   "metadata": {
    "collapsed": false
   },
   "outputs": [
    {
     "data": {
      "text/plain": [
       "1564"
      ]
     },
     "execution_count": 77,
     "metadata": {},
     "output_type": "execute_result"
    }
   ],
   "source": [
    "clf.best_round"
   ]
  },
  {
   "cell_type": "code",
   "execution_count": 79,
   "metadata": {
    "collapsed": false
   },
   "outputs": [
    {
     "data": {
      "text/plain": [
       "1127.6123098693258"
      ]
     },
     "execution_count": 79,
     "metadata": {},
     "output_type": "execute_result"
    }
   ],
   "source": [
    "predicted = clf.predict(X_val)\n",
    "mean_absolute_error(np.exp(y_val), np.exp(predicted))"
   ]
  },
  {
   "cell_type": "markdown",
   "metadata": {},
   "source": [
    "1136.386420747905 60 листьев 0.03 0.32 фичей 550 минимум в листе"
   ]
  },
  {
   "cell_type": "markdown",
   "metadata": {},
   "source": [
    "1135.4316392203232 60 листьев 0.03 0.32 фичей 350 минимум в листе"
   ]
  },
  {
   "cell_type": "markdown",
   "metadata": {},
   "source": [
    "1135.5466563030836 60 листьев 0.03 0.32 фичей 230 минимум в листе"
   ]
  },
  {
   "cell_type": "markdown",
   "metadata": {},
   "source": [
    "1135.3686307305636 60 листьев 0.03 0.32 фичей 270 минимум в листе"
   ]
  },
  {
   "cell_type": "markdown",
   "metadata": {},
   "source": [
    "1135.2852721043394 60 листьев 0.03 0.32 фичей 220 минимум в листе"
   ]
  },
  {
   "cell_type": "markdown",
   "metadata": {},
   "source": [
    "1135.4733167574175 60 листьев 0.03 0.32 фичей 190 минимум в листе"
   ]
  },
  {
   "cell_type": "markdown",
   "metadata": {},
   "source": [
    "1135.6312692450049 60 листьев 0.03 0.32 фичей 170 минимум в листе"
   ]
  },
  {
   "cell_type": "markdown",
   "metadata": {},
   "source": [
    "1137.777036075234 60 листьев 0.03 0.32 фичей"
   ]
  },
  {
   "cell_type": "markdown",
   "metadata": {},
   "source": [
    "1138.0840900140104 \n",
    "60 листьев\n",
    "0.03\n",
    "0.3 фичей"
   ]
  },
  {
   "cell_type": "markdown",
   "metadata": {},
   "source": [
    "1140.8355124618313\n",
    "55 листьев\n",
    "0.03\n",
    "1100 итераций"
   ]
  },
  {
   "cell_type": "markdown",
   "metadata": {},
   "source": [
    "1140.2927809707917\n",
    "50 листьев\n",
    "0.03\n",
    "1100 итераций (не сошелся до конца)"
   ]
  },
  {
   "cell_type": "markdown",
   "metadata": {},
   "source": [
    "1141.1602644427512\n",
    "80 листьев\n",
    "0.03\n",
    "1100 итераций"
   ]
  },
  {
   "cell_type": "markdown",
   "metadata": {},
   "source": [
    "1141.1933598094815\n",
    "100 листьев\n",
    "0.03\n",
    "1100 итераций"
   ]
  },
  {
   "cell_type": "markdown",
   "metadata": {},
   "source": [
    "1140.1933598094815\n",
    "60 листьев\n",
    "0.03\n",
    "1000 итераций (не сошелся до конца)"
   ]
  },
  {
   "cell_type": "code",
   "execution_count": 80,
   "metadata": {
    "collapsed": true
   },
   "outputs": [],
   "source": [
    "n_folds = 10\n",
    "cv_sum = 0\n",
    "early_stopping = 50\n",
    "mpred = np.zeros(test_x.shape[0])"
   ]
  },
  {
   "cell_type": "code",
   "execution_count": 81,
   "metadata": {
    "collapsed": false,
    "scrolled": true
   },
   "outputs": [
    {
     "name": "stdout",
     "output_type": "stream",
     "text": [
      "\n",
      " Fold 1\n",
      "eval-MAE: 1141.121047\n",
      "\n",
      " Fold 2\n",
      "eval-MAE: 1123.011960\n",
      "\n",
      " Fold 3\n",
      "eval-MAE: 1137.245671\n",
      "\n",
      " Fold 4\n",
      "eval-MAE: 1116.497751\n",
      "\n",
      " Fold 5\n",
      "eval-MAE: 1142.470613\n",
      "\n",
      " Fold 6\n",
      "eval-MAE: 1136.846609\n",
      "\n",
      " Fold 7\n",
      "eval-MAE: 1134.811832\n",
      "\n",
      " Fold 8\n",
      "eval-MAE: 1135.829103\n",
      "\n",
      " Fold 9\n",
      "eval-MAE: 1124.668087\n",
      "\n",
      " Fold 10\n",
      "eval-MAE: 1120.952255\n"
     ]
    }
   ],
   "source": [
    "metafeature = pd.DataFrame()\n",
    "kf = KFold(n_folds)\n",
    "for i, (train_index, valid_index) in enumerate(kf.split(train_x)):\n",
    "    print('\\n Fold %d' % (i+1))\n",
    "    X_train, X_val = train_x.iloc[train_index], train_x.iloc[valid_index]\n",
    "    y_train, y_val = train_y.iloc[train_index], train_y.iloc[valid_index]\n",
    "    \n",
    "    clf = GBMRegressor(application='regression',\n",
    "                       num_iterations=2000,\n",
    "                       learning_rate=0.03,\n",
    "                       num_leaves=60,\n",
    "                       tree_learner='serial',\n",
    "                       num_threads=8,\n",
    "                       min_data_in_leaf=220,\n",
    "                       metric='l1',\n",
    "                       feature_fraction=0.32,\n",
    "                       bagging_fraction=1.0,\n",
    "                       early_stopping_round=50,\n",
    "                       max_depth=-1,\n",
    "                       boosting_type='gbdt',\n",
    "                       verbose=False)\n",
    "    \n",
    "    clf.fit(X_train, y_train, test_data=[(X_val, y_val)])\n",
    "    \n",
    "    scores_val = clf.predict(X_val)\n",
    "    cv_score = mean_absolute_error(np.exp(y_val), np.exp(scores_val))\n",
    "    print('eval-MAE: %.6f' % cv_score)\n",
    "    cv_sum += cv_score\n",
    "    y_pred = np.exp(clf.predict(test_x)) - shift\n",
    "    #stacking    \n",
    "    metafeature2 = pd.DataFrame()\n",
    "    y_stack = np.exp(scores_val) - shift\n",
    "    metafeature2['id'] = train.iloc[valid_index]['id']\n",
    "    metafeature2['loss'] = y_stack\n",
    "    metafeature = pd.concat([metafeature, metafeature2])\n",
    "    mpred += y_pred   \n",
    "mpred /= n_folds"
   ]
  },
  {
   "cell_type": "code",
   "execution_count": 82,
   "metadata": {
    "collapsed": false
   },
   "outputs": [
    {
     "name": "stdout",
     "output_type": "stream",
     "text": [
      "eval-MAE: 1131.345493\n"
     ]
    }
   ],
   "source": [
    "print('eval-MAE: %.6f' % (cv_sum/n_folds))"
   ]
  },
  {
   "cell_type": "code",
   "execution_count": 93,
   "metadata": {
    "collapsed": false
   },
   "outputs": [
    {
     "name": "stdout",
     "output_type": "stream",
     "text": [
      "Writing results\n"
     ]
    }
   ],
   "source": [
    "print(\"Writing results\")\n",
    "result = pd.DataFrame(mpred, columns=['loss'])\n",
    "result[\"id\"] = ids\n",
    "result = result.set_index(\"id\")\n",
    "result.to_csv('gbm_first.csv', index=True, index_label='id')"
   ]
  },
  {
   "cell_type": "code",
   "execution_count": 84,
   "metadata": {
    "collapsed": true
   },
   "outputs": [],
   "source": [
    "metafeature.to_csv('metafeature_10fold_gbm.csv', index=False)"
   ]
  },
  {
   "cell_type": "markdown",
   "metadata": {},
   "source": [
    "Кластеризация"
   ]
  },
  {
   "cell_type": "code",
   "execution_count": 164,
   "metadata": {
    "collapsed": true
   },
   "outputs": [],
   "source": [
    "from sklearn.cluster import KMeans, MiniBatchKMeans, Birch"
   ]
  },
  {
   "cell_type": "code",
   "execution_count": 162,
   "metadata": {
    "collapsed": false
   },
   "outputs": [
    {
     "data": {
      "text/plain": [
       "MiniBatchKMeans(batch_size=5000, compute_labels=True, init='k-means++',\n",
       "        init_size=None, max_iter=300, max_no_improvement=20, n_clusters=5,\n",
       "        n_init=3, random_state=None, reassignment_ratio=0.01, tol=0.0,\n",
       "        verbose=0)"
      ]
     },
     "execution_count": 162,
     "metadata": {},
     "output_type": "execute_result"
    }
   ],
   "source": [
    "clust = MiniBatchKMeans(max_iter=300, n_clusters=5, batch_size=5000, max_no_improvement=20)\n",
    "clust.fit(train_x)"
   ]
  },
  {
   "cell_type": "code",
   "execution_count": 163,
   "metadata": {
    "collapsed": false
   },
   "outputs": [
    {
     "data": {
      "text/plain": [
       "array([1, 4, 0, 0, 1, 2, 1, 1, 1, 1, 1, 1, 1, 1, 1, 0, 2, 4, 2, 0, 1, 4, 1,\n",
       "       1, 4, 1, 4, 1, 1, 1, 1, 1, 0, 3, 0, 2, 2, 0, 1, 0, 1, 0, 4, 1, 1, 1,\n",
       "       1, 3, 1, 3])"
      ]
     },
     "execution_count": 163,
     "metadata": {},
     "output_type": "execute_result"
    }
   ],
   "source": [
    "clust.predict(test_x[:50])"
   ]
  },
  {
   "cell_type": "code",
   "execution_count": 118,
   "metadata": {
    "collapsed": false
   },
   "outputs": [
    {
     "data": {
      "text/plain": [
       "array([4, 3, 0, 2, 1, 1, 1, 4, 4, 4, 1, 1, 1, 1, 1, 2, 1, 3, 1, 2, 0, 3, 4,\n",
       "       1, 3, 1, 3, 1, 1, 4, 4, 4, 2, 1, 2, 0, 0, 2, 1, 2, 1, 2, 3, 4, 4, 1,\n",
       "       4, 1, 0, 1])"
      ]
     },
     "execution_count": 118,
     "metadata": {},
     "output_type": "execute_result"
    }
   ],
   "source": [
    "clust.predict(test_x[:50])"
   ]
  },
  {
   "cell_type": "code",
   "execution_count": null,
   "metadata": {
    "collapsed": true
   },
   "outputs": [],
   "source": []
  }
 ],
 "metadata": {
  "anaconda-cloud": {},
  "kernelspec": {
   "display_name": "Python [conda root]",
   "language": "python",
   "name": "conda-root-py"
  },
  "language_info": {
   "codemirror_mode": {
    "name": "ipython",
    "version": 3
   },
   "file_extension": ".py",
   "mimetype": "text/x-python",
   "name": "python",
   "nbconvert_exporter": "python",
   "pygments_lexer": "ipython3",
   "version": "3.5.2"
  }
 },
 "nbformat": 4,
 "nbformat_minor": 1
}
